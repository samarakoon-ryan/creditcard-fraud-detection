{
  "nbformat": 4,
  "nbformat_minor": 0,
  "metadata": {
    "colab": {
      "provenance": [],
      "toc_visible": true,
      "authorship_tag": "ABX9TyMVU4slY+3CyFz9tW4dfAxT",
      "include_colab_link": true
    },
    "kernelspec": {
      "name": "python3",
      "display_name": "Python 3"
    },
    "language_info": {
      "name": "python"
    }
  },
  "cells": [
    {
      "cell_type": "markdown",
      "metadata": {
        "id": "view-in-github",
        "colab_type": "text"
      },
      "source": [
        "<a href=\"https://colab.research.google.com/github/samarakoon-ryan/creditcard-fraud-detection/blob/update-train-test-split/project.ipynb\" target=\"_parent\"><img src=\"https://colab.research.google.com/assets/colab-badge.svg\" alt=\"Open In Colab\"/></a>"
      ]
    },
    {
      "cell_type": "markdown",
      "source": [
        "# Credit Card Fraud Detection"
      ],
      "metadata": {
        "id": "gyeTk_IHbT7q"
      }
    },
    {
      "cell_type": "code",
      "execution_count": 1,
      "metadata": {
        "id": "Ut3FqvdvbKCR"
      },
      "outputs": [],
      "source": [
        "# Import dependencies\n",
        "import numpy as np\n",
        "import matplotlib.pyplot as plt\n",
        "import pandas as pd\n",
        "import seaborn as sns\n",
        "import math\n",
        "\n",
        "from sklearn.model_selection import train_test_split, GridSearchCV\n",
        "from sklearn.linear_model import LogisticRegression\n",
        "from sklearn.pipeline import Pipeline \n",
        "from sklearn.compose import ColumnTransformer, make_column_selector\n",
        "from sklearn.impute import SimpleImputer\n",
        "from sklearn.preprocessing import StandardScaler, FunctionTransformer\n",
        "from sklearn import config_context\n",
        "from sklearn.metrics import classification_report, confusion_matrix, ConfusionMatrixDisplay, roc_curve"
      ]
    },
    {
      "cell_type": "markdown",
      "source": [
        "In this project I will show an example of how determining a probability threshold from an ROC curve can be useful for unbalanced datasets in binary classification problems. I'll be using Logistic Regression to demonstrate this. I'm aware there are many combinations of methods used to deal with an unbalanced dataset, but the sole purpose of this notebook is show the pros and cons of calculating an ROC curve. "
      ],
      "metadata": {
        "id": "iA7ZS5z0zzOd"
      }
    },
    {
      "cell_type": "markdown",
      "source": [
        "## Exploratory Data Analysis\n",
        "\n",
        "First I'll do some brief data exploration and feature engineering. The dataset is completely numerical so it's pretty straightforward. I'll only be dropping null values.\n",
        "\n"
      ],
      "metadata": {
        "id": "KqgXyuZtbiCF"
      }
    },
    {
      "cell_type": "code",
      "source": [
        "# Read dataset\n",
        "\n",
        "detection = pd.read_csv(\"creditcard.csv\")\n",
        "detection.head()"
      ],
      "metadata": {
        "colab": {
          "base_uri": "https://localhost:8080/",
          "height": 300
        },
        "id": "zr3pvy80bnPl",
        "outputId": "73b2eea8-365c-42c6-c409-a19d7daf6578"
      },
      "execution_count": 2,
      "outputs": [
        {
          "output_type": "execute_result",
          "data": {
            "text/plain": [
              "   Time        V1        V2        V3        V4        V5        V6        V7  \\\n",
              "0   0.0 -1.359807 -0.072781  2.536347  1.378155 -0.338321  0.462388  0.239599   \n",
              "1   0.0  1.191857  0.266151  0.166480  0.448154  0.060018 -0.082361 -0.078803   \n",
              "2   1.0 -1.358354 -1.340163  1.773209  0.379780 -0.503198  1.800499  0.791461   \n",
              "3   1.0 -0.966272 -0.185226  1.792993 -0.863291 -0.010309  1.247203  0.237609   \n",
              "4   2.0 -1.158233  0.877737  1.548718  0.403034 -0.407193  0.095921  0.592941   \n",
              "\n",
              "         V8        V9  ...       V21       V22       V23       V24       V25  \\\n",
              "0  0.098698  0.363787  ... -0.018307  0.277838 -0.110474  0.066928  0.128539   \n",
              "1  0.085102 -0.255425  ... -0.225775 -0.638672  0.101288 -0.339846  0.167170   \n",
              "2  0.247676 -1.514654  ...  0.247998  0.771679  0.909412 -0.689281 -0.327642   \n",
              "3  0.377436 -1.387024  ... -0.108300  0.005274 -0.190321 -1.175575  0.647376   \n",
              "4 -0.270533  0.817739  ... -0.009431  0.798278 -0.137458  0.141267 -0.206010   \n",
              "\n",
              "        V26       V27       V28  Amount  class  \n",
              "0 -0.189115  0.133558 -0.021053  149.62      0  \n",
              "1  0.125895 -0.008983  0.014724    2.69      0  \n",
              "2 -0.139097 -0.055353 -0.059752  378.66      0  \n",
              "3 -0.221929  0.062723  0.061458  123.50      0  \n",
              "4  0.502292  0.219422  0.215153   69.99      0  \n",
              "\n",
              "[5 rows x 31 columns]"
            ],
            "text/html": [
              "\n",
              "  <div id=\"df-d051ec61-8617-45d7-afc1-c61fb90bc93a\">\n",
              "    <div class=\"colab-df-container\">\n",
              "      <div>\n",
              "<style scoped>\n",
              "    .dataframe tbody tr th:only-of-type {\n",
              "        vertical-align: middle;\n",
              "    }\n",
              "\n",
              "    .dataframe tbody tr th {\n",
              "        vertical-align: top;\n",
              "    }\n",
              "\n",
              "    .dataframe thead th {\n",
              "        text-align: right;\n",
              "    }\n",
              "</style>\n",
              "<table border=\"1\" class=\"dataframe\">\n",
              "  <thead>\n",
              "    <tr style=\"text-align: right;\">\n",
              "      <th></th>\n",
              "      <th>Time</th>\n",
              "      <th>V1</th>\n",
              "      <th>V2</th>\n",
              "      <th>V3</th>\n",
              "      <th>V4</th>\n",
              "      <th>V5</th>\n",
              "      <th>V6</th>\n",
              "      <th>V7</th>\n",
              "      <th>V8</th>\n",
              "      <th>V9</th>\n",
              "      <th>...</th>\n",
              "      <th>V21</th>\n",
              "      <th>V22</th>\n",
              "      <th>V23</th>\n",
              "      <th>V24</th>\n",
              "      <th>V25</th>\n",
              "      <th>V26</th>\n",
              "      <th>V27</th>\n",
              "      <th>V28</th>\n",
              "      <th>Amount</th>\n",
              "      <th>class</th>\n",
              "    </tr>\n",
              "  </thead>\n",
              "  <tbody>\n",
              "    <tr>\n",
              "      <th>0</th>\n",
              "      <td>0.0</td>\n",
              "      <td>-1.359807</td>\n",
              "      <td>-0.072781</td>\n",
              "      <td>2.536347</td>\n",
              "      <td>1.378155</td>\n",
              "      <td>-0.338321</td>\n",
              "      <td>0.462388</td>\n",
              "      <td>0.239599</td>\n",
              "      <td>0.098698</td>\n",
              "      <td>0.363787</td>\n",
              "      <td>...</td>\n",
              "      <td>-0.018307</td>\n",
              "      <td>0.277838</td>\n",
              "      <td>-0.110474</td>\n",
              "      <td>0.066928</td>\n",
              "      <td>0.128539</td>\n",
              "      <td>-0.189115</td>\n",
              "      <td>0.133558</td>\n",
              "      <td>-0.021053</td>\n",
              "      <td>149.62</td>\n",
              "      <td>0</td>\n",
              "    </tr>\n",
              "    <tr>\n",
              "      <th>1</th>\n",
              "      <td>0.0</td>\n",
              "      <td>1.191857</td>\n",
              "      <td>0.266151</td>\n",
              "      <td>0.166480</td>\n",
              "      <td>0.448154</td>\n",
              "      <td>0.060018</td>\n",
              "      <td>-0.082361</td>\n",
              "      <td>-0.078803</td>\n",
              "      <td>0.085102</td>\n",
              "      <td>-0.255425</td>\n",
              "      <td>...</td>\n",
              "      <td>-0.225775</td>\n",
              "      <td>-0.638672</td>\n",
              "      <td>0.101288</td>\n",
              "      <td>-0.339846</td>\n",
              "      <td>0.167170</td>\n",
              "      <td>0.125895</td>\n",
              "      <td>-0.008983</td>\n",
              "      <td>0.014724</td>\n",
              "      <td>2.69</td>\n",
              "      <td>0</td>\n",
              "    </tr>\n",
              "    <tr>\n",
              "      <th>2</th>\n",
              "      <td>1.0</td>\n",
              "      <td>-1.358354</td>\n",
              "      <td>-1.340163</td>\n",
              "      <td>1.773209</td>\n",
              "      <td>0.379780</td>\n",
              "      <td>-0.503198</td>\n",
              "      <td>1.800499</td>\n",
              "      <td>0.791461</td>\n",
              "      <td>0.247676</td>\n",
              "      <td>-1.514654</td>\n",
              "      <td>...</td>\n",
              "      <td>0.247998</td>\n",
              "      <td>0.771679</td>\n",
              "      <td>0.909412</td>\n",
              "      <td>-0.689281</td>\n",
              "      <td>-0.327642</td>\n",
              "      <td>-0.139097</td>\n",
              "      <td>-0.055353</td>\n",
              "      <td>-0.059752</td>\n",
              "      <td>378.66</td>\n",
              "      <td>0</td>\n",
              "    </tr>\n",
              "    <tr>\n",
              "      <th>3</th>\n",
              "      <td>1.0</td>\n",
              "      <td>-0.966272</td>\n",
              "      <td>-0.185226</td>\n",
              "      <td>1.792993</td>\n",
              "      <td>-0.863291</td>\n",
              "      <td>-0.010309</td>\n",
              "      <td>1.247203</td>\n",
              "      <td>0.237609</td>\n",
              "      <td>0.377436</td>\n",
              "      <td>-1.387024</td>\n",
              "      <td>...</td>\n",
              "      <td>-0.108300</td>\n",
              "      <td>0.005274</td>\n",
              "      <td>-0.190321</td>\n",
              "      <td>-1.175575</td>\n",
              "      <td>0.647376</td>\n",
              "      <td>-0.221929</td>\n",
              "      <td>0.062723</td>\n",
              "      <td>0.061458</td>\n",
              "      <td>123.50</td>\n",
              "      <td>0</td>\n",
              "    </tr>\n",
              "    <tr>\n",
              "      <th>4</th>\n",
              "      <td>2.0</td>\n",
              "      <td>-1.158233</td>\n",
              "      <td>0.877737</td>\n",
              "      <td>1.548718</td>\n",
              "      <td>0.403034</td>\n",
              "      <td>-0.407193</td>\n",
              "      <td>0.095921</td>\n",
              "      <td>0.592941</td>\n",
              "      <td>-0.270533</td>\n",
              "      <td>0.817739</td>\n",
              "      <td>...</td>\n",
              "      <td>-0.009431</td>\n",
              "      <td>0.798278</td>\n",
              "      <td>-0.137458</td>\n",
              "      <td>0.141267</td>\n",
              "      <td>-0.206010</td>\n",
              "      <td>0.502292</td>\n",
              "      <td>0.219422</td>\n",
              "      <td>0.215153</td>\n",
              "      <td>69.99</td>\n",
              "      <td>0</td>\n",
              "    </tr>\n",
              "  </tbody>\n",
              "</table>\n",
              "<p>5 rows × 31 columns</p>\n",
              "</div>\n",
              "      <button class=\"colab-df-convert\" onclick=\"convertToInteractive('df-d051ec61-8617-45d7-afc1-c61fb90bc93a')\"\n",
              "              title=\"Convert this dataframe to an interactive table.\"\n",
              "              style=\"display:none;\">\n",
              "        \n",
              "  <svg xmlns=\"http://www.w3.org/2000/svg\" height=\"24px\"viewBox=\"0 0 24 24\"\n",
              "       width=\"24px\">\n",
              "    <path d=\"M0 0h24v24H0V0z\" fill=\"none\"/>\n",
              "    <path d=\"M18.56 5.44l.94 2.06.94-2.06 2.06-.94-2.06-.94-.94-2.06-.94 2.06-2.06.94zm-11 1L8.5 8.5l.94-2.06 2.06-.94-2.06-.94L8.5 2.5l-.94 2.06-2.06.94zm10 10l.94 2.06.94-2.06 2.06-.94-2.06-.94-.94-2.06-.94 2.06-2.06.94z\"/><path d=\"M17.41 7.96l-1.37-1.37c-.4-.4-.92-.59-1.43-.59-.52 0-1.04.2-1.43.59L10.3 9.45l-7.72 7.72c-.78.78-.78 2.05 0 2.83L4 21.41c.39.39.9.59 1.41.59.51 0 1.02-.2 1.41-.59l7.78-7.78 2.81-2.81c.8-.78.8-2.07 0-2.86zM5.41 20L4 18.59l7.72-7.72 1.47 1.35L5.41 20z\"/>\n",
              "  </svg>\n",
              "      </button>\n",
              "      \n",
              "  <style>\n",
              "    .colab-df-container {\n",
              "      display:flex;\n",
              "      flex-wrap:wrap;\n",
              "      gap: 12px;\n",
              "    }\n",
              "\n",
              "    .colab-df-convert {\n",
              "      background-color: #E8F0FE;\n",
              "      border: none;\n",
              "      border-radius: 50%;\n",
              "      cursor: pointer;\n",
              "      display: none;\n",
              "      fill: #1967D2;\n",
              "      height: 32px;\n",
              "      padding: 0 0 0 0;\n",
              "      width: 32px;\n",
              "    }\n",
              "\n",
              "    .colab-df-convert:hover {\n",
              "      background-color: #E2EBFA;\n",
              "      box-shadow: 0px 1px 2px rgba(60, 64, 67, 0.3), 0px 1px 3px 1px rgba(60, 64, 67, 0.15);\n",
              "      fill: #174EA6;\n",
              "    }\n",
              "\n",
              "    [theme=dark] .colab-df-convert {\n",
              "      background-color: #3B4455;\n",
              "      fill: #D2E3FC;\n",
              "    }\n",
              "\n",
              "    [theme=dark] .colab-df-convert:hover {\n",
              "      background-color: #434B5C;\n",
              "      box-shadow: 0px 1px 3px 1px rgba(0, 0, 0, 0.15);\n",
              "      filter: drop-shadow(0px 1px 2px rgba(0, 0, 0, 0.3));\n",
              "      fill: #FFFFFF;\n",
              "    }\n",
              "  </style>\n",
              "\n",
              "      <script>\n",
              "        const buttonEl =\n",
              "          document.querySelector('#df-d051ec61-8617-45d7-afc1-c61fb90bc93a button.colab-df-convert');\n",
              "        buttonEl.style.display =\n",
              "          google.colab.kernel.accessAllowed ? 'block' : 'none';\n",
              "\n",
              "        async function convertToInteractive(key) {\n",
              "          const element = document.querySelector('#df-d051ec61-8617-45d7-afc1-c61fb90bc93a');\n",
              "          const dataTable =\n",
              "            await google.colab.kernel.invokeFunction('convertToInteractive',\n",
              "                                                     [key], {});\n",
              "          if (!dataTable) return;\n",
              "\n",
              "          const docLinkHtml = 'Like what you see? Visit the ' +\n",
              "            '<a target=\"_blank\" href=https://colab.research.google.com/notebooks/data_table.ipynb>data table notebook</a>'\n",
              "            + ' to learn more about interactive tables.';\n",
              "          element.innerHTML = '';\n",
              "          dataTable['output_type'] = 'display_data';\n",
              "          await google.colab.output.renderOutput(dataTable, element);\n",
              "          const docLink = document.createElement('div');\n",
              "          docLink.innerHTML = docLinkHtml;\n",
              "          element.appendChild(docLink);\n",
              "        }\n",
              "      </script>\n",
              "    </div>\n",
              "  </div>\n",
              "  "
            ]
          },
          "metadata": {},
          "execution_count": 2
        }
      ]
    },
    {
      "cell_type": "code",
      "source": [
        "# Summary statistics for each feature\n",
        "detection.describe().T"
      ],
      "metadata": {
        "colab": {
          "base_uri": "https://localhost:8080/",
          "height": 1000
        },
        "id": "NTrCiBNUbzNF",
        "outputId": "f87d71ee-3033-49b3-d87c-54a6419f3539"
      },
      "execution_count": null,
      "outputs": [
        {
          "output_type": "execute_result",
          "data": {
            "text/plain": [
              "           count          mean           std         min           25%  \\\n",
              "Time    284807.0  9.481386e+04  47488.145955    0.000000  54201.500000   \n",
              "V1      284807.0  1.759061e-12      1.958696  -56.407510     -0.920373   \n",
              "V2      284807.0 -8.251130e-13      1.651309  -72.715728     -0.598550   \n",
              "V3      284807.0 -9.654937e-13      1.516255  -48.325589     -0.890365   \n",
              "V4      284807.0  8.321385e-13      1.415869   -5.683171     -0.848640   \n",
              "V5      284807.0  1.649999e-13      1.380247 -113.743307     -0.691597   \n",
              "V6      284807.0  4.248366e-13      1.332271  -26.160506     -0.768296   \n",
              "V7      284807.0 -3.054600e-13      1.237094  -43.557242     -0.554076   \n",
              "V8      284807.0  8.777971e-14      1.194353  -73.216718     -0.208630   \n",
              "V9      284807.0 -1.179749e-12      1.098632  -13.434066     -0.643098   \n",
              "V10     284807.0  7.092545e-13      1.088850  -24.588262     -0.535426   \n",
              "V11     284807.0  1.874948e-12      1.020713   -4.797473     -0.762494   \n",
              "V12     284807.0  1.053347e-12      0.999201  -18.683715     -0.405571   \n",
              "V13     284807.0  7.127611e-13      0.995274   -5.791881     -0.648539   \n",
              "V14     284807.0 -1.474791e-13      0.958596  -19.214325     -0.425574   \n",
              "V15     284807.0 -5.231558e-13      0.915316   -4.498945     -0.582884   \n",
              "V16     284807.0 -2.282250e-13      0.876253  -14.129855     -0.468037   \n",
              "V17     284807.0 -6.425436e-13      0.849337  -25.162799     -0.483748   \n",
              "V18     284807.0  4.950748e-13      0.838176   -9.498746     -0.498850   \n",
              "V19     284807.0  7.057397e-13      0.814041   -7.213527     -0.456299   \n",
              "V20     284807.0  1.766111e-12      0.770925  -54.497720     -0.211721   \n",
              "V21     284807.0 -3.405756e-13      0.734524  -34.830382     -0.228395   \n",
              "V22     284807.0 -5.723197e-13      0.725702  -10.933144     -0.542350   \n",
              "V23     284807.0 -9.725856e-13      0.624460  -44.807735     -0.161846   \n",
              "V24     284807.0  1.464150e-12      0.605647   -2.836627     -0.354586   \n",
              "V25     284807.0 -6.987102e-13      0.521278  -10.295397     -0.317145   \n",
              "V26     284807.0 -5.617874e-13      0.482227   -2.604551     -0.326984   \n",
              "V27     284807.0  3.332082e-12      0.403632  -22.565679     -0.070840   \n",
              "V28     284807.0 -3.518874e-12      0.330083  -15.430084     -0.052960   \n",
              "Amount  284807.0  8.834962e+01    250.120109    0.000000      5.600000   \n",
              "class   284807.0  1.727486e-03      0.041527    0.000000      0.000000   \n",
              "\n",
              "                 50%            75%            max  \n",
              "Time    84692.000000  139320.500000  172792.000000  \n",
              "V1          0.018109       1.315642       2.454930  \n",
              "V2          0.065486       0.803724      22.057729  \n",
              "V3          0.179846       1.027196       9.382558  \n",
              "V4         -0.019847       0.743341      16.875344  \n",
              "V5         -0.054336       0.611926      34.801666  \n",
              "V6         -0.274187       0.398565      73.301626  \n",
              "V7          0.040103       0.570436     120.589494  \n",
              "V8          0.022358       0.327346      20.007208  \n",
              "V9         -0.051429       0.597139      15.594995  \n",
              "V10        -0.092917       0.453923      23.745136  \n",
              "V11        -0.032757       0.739593      12.018913  \n",
              "V12         0.140033       0.618238       7.848392  \n",
              "V13        -0.013568       0.662505       7.126883  \n",
              "V14         0.050601       0.493150      10.526766  \n",
              "V15         0.048072       0.648821       8.877742  \n",
              "V16         0.066413       0.523296      17.315112  \n",
              "V17        -0.065676       0.399675       9.253526  \n",
              "V18        -0.003636       0.500807       5.041069  \n",
              "V19         0.003735       0.458949       5.591971  \n",
              "V20        -0.062481       0.133041      39.420904  \n",
              "V21        -0.029450       0.186377      27.202839  \n",
              "V22         0.006782       0.528554      10.503090  \n",
              "V23        -0.011193       0.147642      22.528412  \n",
              "V24         0.040976       0.439527       4.584549  \n",
              "V25         0.016594       0.350716       7.519589  \n",
              "V26        -0.052139       0.240952       3.517346  \n",
              "V27         0.001342       0.091045      31.612198  \n",
              "V28         0.011244       0.078280      33.847808  \n",
              "Amount     22.000000      77.165000   25691.160000  \n",
              "class       0.000000       0.000000       1.000000  "
            ],
            "text/html": [
              "\n",
              "  <div id=\"df-936c715a-fbc3-4d31-a0ae-23461aae6914\">\n",
              "    <div class=\"colab-df-container\">\n",
              "      <div>\n",
              "<style scoped>\n",
              "    .dataframe tbody tr th:only-of-type {\n",
              "        vertical-align: middle;\n",
              "    }\n",
              "\n",
              "    .dataframe tbody tr th {\n",
              "        vertical-align: top;\n",
              "    }\n",
              "\n",
              "    .dataframe thead th {\n",
              "        text-align: right;\n",
              "    }\n",
              "</style>\n",
              "<table border=\"1\" class=\"dataframe\">\n",
              "  <thead>\n",
              "    <tr style=\"text-align: right;\">\n",
              "      <th></th>\n",
              "      <th>count</th>\n",
              "      <th>mean</th>\n",
              "      <th>std</th>\n",
              "      <th>min</th>\n",
              "      <th>25%</th>\n",
              "      <th>50%</th>\n",
              "      <th>75%</th>\n",
              "      <th>max</th>\n",
              "    </tr>\n",
              "  </thead>\n",
              "  <tbody>\n",
              "    <tr>\n",
              "      <th>Time</th>\n",
              "      <td>284807.0</td>\n",
              "      <td>9.481386e+04</td>\n",
              "      <td>47488.145955</td>\n",
              "      <td>0.000000</td>\n",
              "      <td>54201.500000</td>\n",
              "      <td>84692.000000</td>\n",
              "      <td>139320.500000</td>\n",
              "      <td>172792.000000</td>\n",
              "    </tr>\n",
              "    <tr>\n",
              "      <th>V1</th>\n",
              "      <td>284807.0</td>\n",
              "      <td>1.759061e-12</td>\n",
              "      <td>1.958696</td>\n",
              "      <td>-56.407510</td>\n",
              "      <td>-0.920373</td>\n",
              "      <td>0.018109</td>\n",
              "      <td>1.315642</td>\n",
              "      <td>2.454930</td>\n",
              "    </tr>\n",
              "    <tr>\n",
              "      <th>V2</th>\n",
              "      <td>284807.0</td>\n",
              "      <td>-8.251130e-13</td>\n",
              "      <td>1.651309</td>\n",
              "      <td>-72.715728</td>\n",
              "      <td>-0.598550</td>\n",
              "      <td>0.065486</td>\n",
              "      <td>0.803724</td>\n",
              "      <td>22.057729</td>\n",
              "    </tr>\n",
              "    <tr>\n",
              "      <th>V3</th>\n",
              "      <td>284807.0</td>\n",
              "      <td>-9.654937e-13</td>\n",
              "      <td>1.516255</td>\n",
              "      <td>-48.325589</td>\n",
              "      <td>-0.890365</td>\n",
              "      <td>0.179846</td>\n",
              "      <td>1.027196</td>\n",
              "      <td>9.382558</td>\n",
              "    </tr>\n",
              "    <tr>\n",
              "      <th>V4</th>\n",
              "      <td>284807.0</td>\n",
              "      <td>8.321385e-13</td>\n",
              "      <td>1.415869</td>\n",
              "      <td>-5.683171</td>\n",
              "      <td>-0.848640</td>\n",
              "      <td>-0.019847</td>\n",
              "      <td>0.743341</td>\n",
              "      <td>16.875344</td>\n",
              "    </tr>\n",
              "    <tr>\n",
              "      <th>V5</th>\n",
              "      <td>284807.0</td>\n",
              "      <td>1.649999e-13</td>\n",
              "      <td>1.380247</td>\n",
              "      <td>-113.743307</td>\n",
              "      <td>-0.691597</td>\n",
              "      <td>-0.054336</td>\n",
              "      <td>0.611926</td>\n",
              "      <td>34.801666</td>\n",
              "    </tr>\n",
              "    <tr>\n",
              "      <th>V6</th>\n",
              "      <td>284807.0</td>\n",
              "      <td>4.248366e-13</td>\n",
              "      <td>1.332271</td>\n",
              "      <td>-26.160506</td>\n",
              "      <td>-0.768296</td>\n",
              "      <td>-0.274187</td>\n",
              "      <td>0.398565</td>\n",
              "      <td>73.301626</td>\n",
              "    </tr>\n",
              "    <tr>\n",
              "      <th>V7</th>\n",
              "      <td>284807.0</td>\n",
              "      <td>-3.054600e-13</td>\n",
              "      <td>1.237094</td>\n",
              "      <td>-43.557242</td>\n",
              "      <td>-0.554076</td>\n",
              "      <td>0.040103</td>\n",
              "      <td>0.570436</td>\n",
              "      <td>120.589494</td>\n",
              "    </tr>\n",
              "    <tr>\n",
              "      <th>V8</th>\n",
              "      <td>284807.0</td>\n",
              "      <td>8.777971e-14</td>\n",
              "      <td>1.194353</td>\n",
              "      <td>-73.216718</td>\n",
              "      <td>-0.208630</td>\n",
              "      <td>0.022358</td>\n",
              "      <td>0.327346</td>\n",
              "      <td>20.007208</td>\n",
              "    </tr>\n",
              "    <tr>\n",
              "      <th>V9</th>\n",
              "      <td>284807.0</td>\n",
              "      <td>-1.179749e-12</td>\n",
              "      <td>1.098632</td>\n",
              "      <td>-13.434066</td>\n",
              "      <td>-0.643098</td>\n",
              "      <td>-0.051429</td>\n",
              "      <td>0.597139</td>\n",
              "      <td>15.594995</td>\n",
              "    </tr>\n",
              "    <tr>\n",
              "      <th>V10</th>\n",
              "      <td>284807.0</td>\n",
              "      <td>7.092545e-13</td>\n",
              "      <td>1.088850</td>\n",
              "      <td>-24.588262</td>\n",
              "      <td>-0.535426</td>\n",
              "      <td>-0.092917</td>\n",
              "      <td>0.453923</td>\n",
              "      <td>23.745136</td>\n",
              "    </tr>\n",
              "    <tr>\n",
              "      <th>V11</th>\n",
              "      <td>284807.0</td>\n",
              "      <td>1.874948e-12</td>\n",
              "      <td>1.020713</td>\n",
              "      <td>-4.797473</td>\n",
              "      <td>-0.762494</td>\n",
              "      <td>-0.032757</td>\n",
              "      <td>0.739593</td>\n",
              "      <td>12.018913</td>\n",
              "    </tr>\n",
              "    <tr>\n",
              "      <th>V12</th>\n",
              "      <td>284807.0</td>\n",
              "      <td>1.053347e-12</td>\n",
              "      <td>0.999201</td>\n",
              "      <td>-18.683715</td>\n",
              "      <td>-0.405571</td>\n",
              "      <td>0.140033</td>\n",
              "      <td>0.618238</td>\n",
              "      <td>7.848392</td>\n",
              "    </tr>\n",
              "    <tr>\n",
              "      <th>V13</th>\n",
              "      <td>284807.0</td>\n",
              "      <td>7.127611e-13</td>\n",
              "      <td>0.995274</td>\n",
              "      <td>-5.791881</td>\n",
              "      <td>-0.648539</td>\n",
              "      <td>-0.013568</td>\n",
              "      <td>0.662505</td>\n",
              "      <td>7.126883</td>\n",
              "    </tr>\n",
              "    <tr>\n",
              "      <th>V14</th>\n",
              "      <td>284807.0</td>\n",
              "      <td>-1.474791e-13</td>\n",
              "      <td>0.958596</td>\n",
              "      <td>-19.214325</td>\n",
              "      <td>-0.425574</td>\n",
              "      <td>0.050601</td>\n",
              "      <td>0.493150</td>\n",
              "      <td>10.526766</td>\n",
              "    </tr>\n",
              "    <tr>\n",
              "      <th>V15</th>\n",
              "      <td>284807.0</td>\n",
              "      <td>-5.231558e-13</td>\n",
              "      <td>0.915316</td>\n",
              "      <td>-4.498945</td>\n",
              "      <td>-0.582884</td>\n",
              "      <td>0.048072</td>\n",
              "      <td>0.648821</td>\n",
              "      <td>8.877742</td>\n",
              "    </tr>\n",
              "    <tr>\n",
              "      <th>V16</th>\n",
              "      <td>284807.0</td>\n",
              "      <td>-2.282250e-13</td>\n",
              "      <td>0.876253</td>\n",
              "      <td>-14.129855</td>\n",
              "      <td>-0.468037</td>\n",
              "      <td>0.066413</td>\n",
              "      <td>0.523296</td>\n",
              "      <td>17.315112</td>\n",
              "    </tr>\n",
              "    <tr>\n",
              "      <th>V17</th>\n",
              "      <td>284807.0</td>\n",
              "      <td>-6.425436e-13</td>\n",
              "      <td>0.849337</td>\n",
              "      <td>-25.162799</td>\n",
              "      <td>-0.483748</td>\n",
              "      <td>-0.065676</td>\n",
              "      <td>0.399675</td>\n",
              "      <td>9.253526</td>\n",
              "    </tr>\n",
              "    <tr>\n",
              "      <th>V18</th>\n",
              "      <td>284807.0</td>\n",
              "      <td>4.950748e-13</td>\n",
              "      <td>0.838176</td>\n",
              "      <td>-9.498746</td>\n",
              "      <td>-0.498850</td>\n",
              "      <td>-0.003636</td>\n",
              "      <td>0.500807</td>\n",
              "      <td>5.041069</td>\n",
              "    </tr>\n",
              "    <tr>\n",
              "      <th>V19</th>\n",
              "      <td>284807.0</td>\n",
              "      <td>7.057397e-13</td>\n",
              "      <td>0.814041</td>\n",
              "      <td>-7.213527</td>\n",
              "      <td>-0.456299</td>\n",
              "      <td>0.003735</td>\n",
              "      <td>0.458949</td>\n",
              "      <td>5.591971</td>\n",
              "    </tr>\n",
              "    <tr>\n",
              "      <th>V20</th>\n",
              "      <td>284807.0</td>\n",
              "      <td>1.766111e-12</td>\n",
              "      <td>0.770925</td>\n",
              "      <td>-54.497720</td>\n",
              "      <td>-0.211721</td>\n",
              "      <td>-0.062481</td>\n",
              "      <td>0.133041</td>\n",
              "      <td>39.420904</td>\n",
              "    </tr>\n",
              "    <tr>\n",
              "      <th>V21</th>\n",
              "      <td>284807.0</td>\n",
              "      <td>-3.405756e-13</td>\n",
              "      <td>0.734524</td>\n",
              "      <td>-34.830382</td>\n",
              "      <td>-0.228395</td>\n",
              "      <td>-0.029450</td>\n",
              "      <td>0.186377</td>\n",
              "      <td>27.202839</td>\n",
              "    </tr>\n",
              "    <tr>\n",
              "      <th>V22</th>\n",
              "      <td>284807.0</td>\n",
              "      <td>-5.723197e-13</td>\n",
              "      <td>0.725702</td>\n",
              "      <td>-10.933144</td>\n",
              "      <td>-0.542350</td>\n",
              "      <td>0.006782</td>\n",
              "      <td>0.528554</td>\n",
              "      <td>10.503090</td>\n",
              "    </tr>\n",
              "    <tr>\n",
              "      <th>V23</th>\n",
              "      <td>284807.0</td>\n",
              "      <td>-9.725856e-13</td>\n",
              "      <td>0.624460</td>\n",
              "      <td>-44.807735</td>\n",
              "      <td>-0.161846</td>\n",
              "      <td>-0.011193</td>\n",
              "      <td>0.147642</td>\n",
              "      <td>22.528412</td>\n",
              "    </tr>\n",
              "    <tr>\n",
              "      <th>V24</th>\n",
              "      <td>284807.0</td>\n",
              "      <td>1.464150e-12</td>\n",
              "      <td>0.605647</td>\n",
              "      <td>-2.836627</td>\n",
              "      <td>-0.354586</td>\n",
              "      <td>0.040976</td>\n",
              "      <td>0.439527</td>\n",
              "      <td>4.584549</td>\n",
              "    </tr>\n",
              "    <tr>\n",
              "      <th>V25</th>\n",
              "      <td>284807.0</td>\n",
              "      <td>-6.987102e-13</td>\n",
              "      <td>0.521278</td>\n",
              "      <td>-10.295397</td>\n",
              "      <td>-0.317145</td>\n",
              "      <td>0.016594</td>\n",
              "      <td>0.350716</td>\n",
              "      <td>7.519589</td>\n",
              "    </tr>\n",
              "    <tr>\n",
              "      <th>V26</th>\n",
              "      <td>284807.0</td>\n",
              "      <td>-5.617874e-13</td>\n",
              "      <td>0.482227</td>\n",
              "      <td>-2.604551</td>\n",
              "      <td>-0.326984</td>\n",
              "      <td>-0.052139</td>\n",
              "      <td>0.240952</td>\n",
              "      <td>3.517346</td>\n",
              "    </tr>\n",
              "    <tr>\n",
              "      <th>V27</th>\n",
              "      <td>284807.0</td>\n",
              "      <td>3.332082e-12</td>\n",
              "      <td>0.403632</td>\n",
              "      <td>-22.565679</td>\n",
              "      <td>-0.070840</td>\n",
              "      <td>0.001342</td>\n",
              "      <td>0.091045</td>\n",
              "      <td>31.612198</td>\n",
              "    </tr>\n",
              "    <tr>\n",
              "      <th>V28</th>\n",
              "      <td>284807.0</td>\n",
              "      <td>-3.518874e-12</td>\n",
              "      <td>0.330083</td>\n",
              "      <td>-15.430084</td>\n",
              "      <td>-0.052960</td>\n",
              "      <td>0.011244</td>\n",
              "      <td>0.078280</td>\n",
              "      <td>33.847808</td>\n",
              "    </tr>\n",
              "    <tr>\n",
              "      <th>Amount</th>\n",
              "      <td>284807.0</td>\n",
              "      <td>8.834962e+01</td>\n",
              "      <td>250.120109</td>\n",
              "      <td>0.000000</td>\n",
              "      <td>5.600000</td>\n",
              "      <td>22.000000</td>\n",
              "      <td>77.165000</td>\n",
              "      <td>25691.160000</td>\n",
              "    </tr>\n",
              "    <tr>\n",
              "      <th>class</th>\n",
              "      <td>284807.0</td>\n",
              "      <td>1.727486e-03</td>\n",
              "      <td>0.041527</td>\n",
              "      <td>0.000000</td>\n",
              "      <td>0.000000</td>\n",
              "      <td>0.000000</td>\n",
              "      <td>0.000000</td>\n",
              "      <td>1.000000</td>\n",
              "    </tr>\n",
              "  </tbody>\n",
              "</table>\n",
              "</div>\n",
              "      <button class=\"colab-df-convert\" onclick=\"convertToInteractive('df-936c715a-fbc3-4d31-a0ae-23461aae6914')\"\n",
              "              title=\"Convert this dataframe to an interactive table.\"\n",
              "              style=\"display:none;\">\n",
              "        \n",
              "  <svg xmlns=\"http://www.w3.org/2000/svg\" height=\"24px\"viewBox=\"0 0 24 24\"\n",
              "       width=\"24px\">\n",
              "    <path d=\"M0 0h24v24H0V0z\" fill=\"none\"/>\n",
              "    <path d=\"M18.56 5.44l.94 2.06.94-2.06 2.06-.94-2.06-.94-.94-2.06-.94 2.06-2.06.94zm-11 1L8.5 8.5l.94-2.06 2.06-.94-2.06-.94L8.5 2.5l-.94 2.06-2.06.94zm10 10l.94 2.06.94-2.06 2.06-.94-2.06-.94-.94-2.06-.94 2.06-2.06.94z\"/><path d=\"M17.41 7.96l-1.37-1.37c-.4-.4-.92-.59-1.43-.59-.52 0-1.04.2-1.43.59L10.3 9.45l-7.72 7.72c-.78.78-.78 2.05 0 2.83L4 21.41c.39.39.9.59 1.41.59.51 0 1.02-.2 1.41-.59l7.78-7.78 2.81-2.81c.8-.78.8-2.07 0-2.86zM5.41 20L4 18.59l7.72-7.72 1.47 1.35L5.41 20z\"/>\n",
              "  </svg>\n",
              "      </button>\n",
              "      \n",
              "  <style>\n",
              "    .colab-df-container {\n",
              "      display:flex;\n",
              "      flex-wrap:wrap;\n",
              "      gap: 12px;\n",
              "    }\n",
              "\n",
              "    .colab-df-convert {\n",
              "      background-color: #E8F0FE;\n",
              "      border: none;\n",
              "      border-radius: 50%;\n",
              "      cursor: pointer;\n",
              "      display: none;\n",
              "      fill: #1967D2;\n",
              "      height: 32px;\n",
              "      padding: 0 0 0 0;\n",
              "      width: 32px;\n",
              "    }\n",
              "\n",
              "    .colab-df-convert:hover {\n",
              "      background-color: #E2EBFA;\n",
              "      box-shadow: 0px 1px 2px rgba(60, 64, 67, 0.3), 0px 1px 3px 1px rgba(60, 64, 67, 0.15);\n",
              "      fill: #174EA6;\n",
              "    }\n",
              "\n",
              "    [theme=dark] .colab-df-convert {\n",
              "      background-color: #3B4455;\n",
              "      fill: #D2E3FC;\n",
              "    }\n",
              "\n",
              "    [theme=dark] .colab-df-convert:hover {\n",
              "      background-color: #434B5C;\n",
              "      box-shadow: 0px 1px 3px 1px rgba(0, 0, 0, 0.15);\n",
              "      filter: drop-shadow(0px 1px 2px rgba(0, 0, 0, 0.3));\n",
              "      fill: #FFFFFF;\n",
              "    }\n",
              "  </style>\n",
              "\n",
              "      <script>\n",
              "        const buttonEl =\n",
              "          document.querySelector('#df-936c715a-fbc3-4d31-a0ae-23461aae6914 button.colab-df-convert');\n",
              "        buttonEl.style.display =\n",
              "          google.colab.kernel.accessAllowed ? 'block' : 'none';\n",
              "\n",
              "        async function convertToInteractive(key) {\n",
              "          const element = document.querySelector('#df-936c715a-fbc3-4d31-a0ae-23461aae6914');\n",
              "          const dataTable =\n",
              "            await google.colab.kernel.invokeFunction('convertToInteractive',\n",
              "                                                     [key], {});\n",
              "          if (!dataTable) return;\n",
              "\n",
              "          const docLinkHtml = 'Like what you see? Visit the ' +\n",
              "            '<a target=\"_blank\" href=https://colab.research.google.com/notebooks/data_table.ipynb>data table notebook</a>'\n",
              "            + ' to learn more about interactive tables.';\n",
              "          element.innerHTML = '';\n",
              "          dataTable['output_type'] = 'display_data';\n",
              "          await google.colab.output.renderOutput(dataTable, element);\n",
              "          const docLink = document.createElement('div');\n",
              "          docLink.innerHTML = docLinkHtml;\n",
              "          element.appendChild(docLink);\n",
              "        }\n",
              "      </script>\n",
              "    </div>\n",
              "  </div>\n",
              "  "
            ]
          },
          "metadata": {},
          "execution_count": 3
        }
      ]
    },
    {
      "cell_type": "code",
      "source": [
        "# plot the distribution of all features\n",
        "detection.plot(kind='density', subplots=True, layout=(8,4), sharex=False, legend=True, \n",
        "                                            fontsize=1, figsize=(16,24))\n",
        "plt.show()"
      ],
      "metadata": {
        "id": "7IAowO7Fduox",
        "outputId": "04ba912e-5a29-48e2-d045-d021b665decf",
        "colab": {
          "base_uri": "https://localhost:8080/",
          "height": 1000
        }
      },
      "execution_count": null,
      "outputs": [
        {
          "output_type": "display_data",
          "data": {
            "text/plain": [
              "<Figure size 1152x1728 with 32 Axes>"
            ],
            "image/png": "[encoded data removed]"
          },
          "metadata": {
            "needs_background": "light"
          }
        }
      ]
    },
    {
      "cell_type": "code",
      "source": [
        "# See distribution of target class\n",
        "detection['class'].value_counts().plot.bar(figsize=(12,12), xlabel='Fraudulent', ylabel='Count', title='Number of Fraudulent Credit Card Transactions')\n",
        "plt.show()\n"
      ],
      "metadata": {
        "id": "6YMNKLlOeyDe",
        "outputId": "ef52aace-3419-4515-9061-61e24ca83f11",
        "colab": {
          "base_uri": "https://localhost:8080/",
          "height": 736
        }
      },
      "execution_count": 3,
      "outputs": [
        {
          "output_type": "display_data",
          "data": {
            "text/plain": [
              "<Figure size 864x864 with 1 Axes>"
            ],
            "image/png": "[encoded data removed]"
          },
          "metadata": {
            "needs_background": "light"
          }
        }
      ]
    },
    {
      "cell_type": "code",
      "source": [
        "detection.isna().sum()"
      ],
      "metadata": {
        "id": "dXGRo8Mpunv6",
        "outputId": "97d139c1-92c9-4043-b6d6-b677d371b87a",
        "colab": {
          "base_uri": "https://localhost:8080/"
        }
      },
      "execution_count": null,
      "outputs": [
        {
          "output_type": "execute_result",
          "data": {
            "text/plain": [
              "Time      0\n",
              "V1        0\n",
              "V2        0\n",
              "V3        0\n",
              "V4        0\n",
              "V5        0\n",
              "V6        0\n",
              "V7        0\n",
              "V8        0\n",
              "V9        0\n",
              "V10       0\n",
              "V11       0\n",
              "V12       0\n",
              "V13       0\n",
              "V14       0\n",
              "V15       0\n",
              "V16       0\n",
              "V17       0\n",
              "V18       0\n",
              "V19       0\n",
              "V20       0\n",
              "V21       0\n",
              "V22       0\n",
              "V23       1\n",
              "V24       1\n",
              "V25       1\n",
              "V26       1\n",
              "V27       1\n",
              "V28       1\n",
              "Amount    1\n",
              "class     1\n",
              "dtype: int64"
            ]
          },
          "metadata": {},
          "execution_count": 4
        }
      ]
    },
    {
      "cell_type": "code",
      "source": [
        "# Drop null values\n",
        "detection = detection.dropna()"
      ],
      "metadata": {
        "id": "_ceDFm-z8LyU"
      },
      "execution_count": 3,
      "outputs": []
    },
    {
      "cell_type": "markdown",
      "source": [
        "## Train/Test Split\n",
        "\n",
        "I used a 70/30 train/test split."
      ],
      "metadata": {
        "id": "cvLAbmRY40rl"
      }
    },
    {
      "cell_type": "code",
      "source": [
        "# Perform train/test split\n",
        "target_col = 'class'\n",
        "random_seed = 1234\n",
        "\n",
        "X_train, X_test, y_train, y_test = train_test_split(detection.drop(columns=target_col), detection[target_col],\n",
        "                                                    test_size=0.3, random_state=random_seed, stratify=detection[target_col])"
      ],
      "metadata": {
        "id": "IkVbfEuR45HW"
      },
      "execution_count": 4,
      "outputs": []
    },
    {
      "cell_type": "code",
      "source": [
        "# Check dimensions of X\n",
        "# X Train\n",
        "print('On X train: ')\n",
        "print('X train dimensions: ', X_train.shape)\n",
        "display(X_train.head())\n",
        "\n",
        "# X test\n",
        "print('\\nOn X test: ')\n",
        "print('X test dimensions: ', X_test.shape)\n",
        "display(X_test.head())"
      ],
      "metadata": {
        "id": "hPAl98jZ8UI5",
        "outputId": "92d8c326-f558-49b3-d2f9-5162da3c169e",
        "colab": {
          "base_uri": "https://localhost:8080/",
          "height": 605
        }
      },
      "execution_count": 5,
      "outputs": [
        {
          "output_type": "stream",
          "name": "stdout",
          "text": [
            "On X train: \n",
            "X train dimensions:  (199364, 30)\n"
          ]
        },
        {
          "output_type": "display_data",
          "data": {
            "text/plain": [
              "            Time        V1        V2        V3        V4        V5        V6  \\\n",
              "239375  150077.0 -3.161772 -2.304336  1.549989  3.683447  2.329421 -0.839534   \n",
              "269964  163863.0 -0.381850  0.303814 -0.260084 -2.060956  1.214580 -0.549916   \n",
              "202400  134313.0 -0.268462  0.943091 -1.913047 -0.714429  3.247672  3.441671   \n",
              "247498  153595.0 -0.431498  0.254134  1.459409  0.203523 -0.192798  0.372215   \n",
              "44749    42069.0  1.337094  0.410927 -0.816182  0.588511  0.973178  0.135806   \n",
              "\n",
              "              V7        V8        V9  ...       V20       V21       V22  \\\n",
              "239375  0.038500 -0.264317 -0.533572  ... -1.472897 -0.204600  1.437508   \n",
              "269964  1.185789 -0.229375 -2.055704  ... -0.464700 -0.153063 -0.027070   \n",
              "202400  0.752988  0.916438 -0.604810  ... -0.246903  0.118490  0.386412   \n",
              "247498  0.676417  0.014669 -1.213470  ... -0.290083 -0.644777 -1.214616   \n",
              "44749   0.460605 -0.129970 -0.499897  ... -0.034724 -0.047018 -0.101805   \n",
              "\n",
              "             V23       V24       V25       V26       V27       V28  Amount  \n",
              "239375  2.524874  0.039523 -0.345749 -0.041902  0.586813 -0.424570    1.00  \n",
              "269964 -0.359650  0.397187  0.427814  0.701023 -0.007525  0.097760   23.90  \n",
              "202400 -0.175112  0.698903  0.250788 -0.583414 -0.334843 -0.270419   28.16  \n",
              "247498 -0.013649  1.031153  0.796440 -0.665799 -0.005019 -0.033875   80.33  \n",
              "44749  -0.386261 -1.363426  1.067152 -0.209514 -0.012479 -0.013912   11.46  \n",
              "\n",
              "[5 rows x 30 columns]"
            ],
            "text/html": [
              "\n",
              "  <div id=\"df-2e79c8f2-7d43-46b9-9b84-8428f14db558\">\n",
              "    <div class=\"colab-df-container\">\n",
              "      <div>\n",
              "<style scoped>\n",
              "    .dataframe tbody tr th:only-of-type {\n",
              "        vertical-align: middle;\n",
              "    }\n",
              "\n",
              "    .dataframe tbody tr th {\n",
              "        vertical-align: top;\n",
              "    }\n",
              "\n",
              "    .dataframe thead th {\n",
              "        text-align: right;\n",
              "    }\n",
              "</style>\n",
              "<table border=\"1\" class=\"dataframe\">\n",
              "  <thead>\n",
              "    <tr style=\"text-align: right;\">\n",
              "      <th></th>\n",
              "      <th>Time</th>\n",
              "      <th>V1</th>\n",
              "      <th>V2</th>\n",
              "      <th>V3</th>\n",
              "      <th>V4</th>\n",
              "      <th>V5</th>\n",
              "      <th>V6</th>\n",
              "      <th>V7</th>\n",
              "      <th>V8</th>\n",
              "      <th>V9</th>\n",
              "      <th>...</th>\n",
              "      <th>V20</th>\n",
              "      <th>V21</th>\n",
              "      <th>V22</th>\n",
              "      <th>V23</th>\n",
              "      <th>V24</th>\n",
              "      <th>V25</th>\n",
              "      <th>V26</th>\n",
              "      <th>V27</th>\n",
              "      <th>V28</th>\n",
              "      <th>Amount</th>\n",
              "    </tr>\n",
              "  </thead>\n",
              "  <tbody>\n",
              "    <tr>\n",
              "      <th>239375</th>\n",
              "      <td>150077.0</td>\n",
              "      <td>-3.161772</td>\n",
              "      <td>-2.304336</td>\n",
              "      <td>1.549989</td>\n",
              "      <td>3.683447</td>\n",
              "      <td>2.329421</td>\n",
              "      <td>-0.839534</td>\n",
              "      <td>0.038500</td>\n",
              "      <td>-0.264317</td>\n",
              "      <td>-0.533572</td>\n",
              "      <td>...</td>\n",
              "      <td>-1.472897</td>\n",
              "      <td>-0.204600</td>\n",
              "      <td>1.437508</td>\n",
              "      <td>2.524874</td>\n",
              "      <td>0.039523</td>\n",
              "      <td>-0.345749</td>\n",
              "      <td>-0.041902</td>\n",
              "      <td>0.586813</td>\n",
              "      <td>-0.424570</td>\n",
              "      <td>1.00</td>\n",
              "    </tr>\n",
              "    <tr>\n",
              "      <th>269964</th>\n",
              "      <td>163863.0</td>\n",
              "      <td>-0.381850</td>\n",
              "      <td>0.303814</td>\n",
              "      <td>-0.260084</td>\n",
              "      <td>-2.060956</td>\n",
              "      <td>1.214580</td>\n",
              "      <td>-0.549916</td>\n",
              "      <td>1.185789</td>\n",
              "      <td>-0.229375</td>\n",
              "      <td>-2.055704</td>\n",
              "      <td>...</td>\n",
              "      <td>-0.464700</td>\n",
              "      <td>-0.153063</td>\n",
              "      <td>-0.027070</td>\n",
              "      <td>-0.359650</td>\n",
              "      <td>0.397187</td>\n",
              "      <td>0.427814</td>\n",
              "      <td>0.701023</td>\n",
              "      <td>-0.007525</td>\n",
              "      <td>0.097760</td>\n",
              "      <td>23.90</td>\n",
              "    </tr>\n",
              "    <tr>\n",
              "      <th>202400</th>\n",
              "      <td>134313.0</td>\n",
              "      <td>-0.268462</td>\n",
              "      <td>0.943091</td>\n",
              "      <td>-1.913047</td>\n",
              "      <td>-0.714429</td>\n",
              "      <td>3.247672</td>\n",
              "      <td>3.441671</td>\n",
              "      <td>0.752988</td>\n",
              "      <td>0.916438</td>\n",
              "      <td>-0.604810</td>\n",
              "      <td>...</td>\n",
              "      <td>-0.246903</td>\n",
              "      <td>0.118490</td>\n",
              "      <td>0.386412</td>\n",
              "      <td>-0.175112</td>\n",
              "      <td>0.698903</td>\n",
              "      <td>0.250788</td>\n",
              "      <td>-0.583414</td>\n",
              "      <td>-0.334843</td>\n",
              "      <td>-0.270419</td>\n",
              "      <td>28.16</td>\n",
              "    </tr>\n",
              "    <tr>\n",
              "      <th>247498</th>\n",
              "      <td>153595.0</td>\n",
              "      <td>-0.431498</td>\n",
              "      <td>0.254134</td>\n",
              "      <td>1.459409</td>\n",
              "      <td>0.203523</td>\n",
              "      <td>-0.192798</td>\n",
              "      <td>0.372215</td>\n",
              "      <td>0.676417</td>\n",
              "      <td>0.014669</td>\n",
              "      <td>-1.213470</td>\n",
              "      <td>...</td>\n",
              "      <td>-0.290083</td>\n",
              "      <td>-0.644777</td>\n",
              "      <td>-1.214616</td>\n",
              "      <td>-0.013649</td>\n",
              "      <td>1.031153</td>\n",
              "      <td>0.796440</td>\n",
              "      <td>-0.665799</td>\n",
              "      <td>-0.005019</td>\n",
              "      <td>-0.033875</td>\n",
              "      <td>80.33</td>\n",
              "    </tr>\n",
              "    <tr>\n",
              "      <th>44749</th>\n",
              "      <td>42069.0</td>\n",
              "      <td>1.337094</td>\n",
              "      <td>0.410927</td>\n",
              "      <td>-0.816182</td>\n",
              "      <td>0.588511</td>\n",
              "      <td>0.973178</td>\n",
              "      <td>0.135806</td>\n",
              "      <td>0.460605</td>\n",
              "      <td>-0.129970</td>\n",
              "      <td>-0.499897</td>\n",
              "      <td>...</td>\n",
              "      <td>-0.034724</td>\n",
              "      <td>-0.047018</td>\n",
              "      <td>-0.101805</td>\n",
              "      <td>-0.386261</td>\n",
              "      <td>-1.363426</td>\n",
              "      <td>1.067152</td>\n",
              "      <td>-0.209514</td>\n",
              "      <td>-0.012479</td>\n",
              "      <td>-0.013912</td>\n",
              "      <td>11.46</td>\n",
              "    </tr>\n",
              "  </tbody>\n",
              "</table>\n",
              "<p>5 rows × 30 columns</p>\n",
              "</div>\n",
              "      <button class=\"colab-df-convert\" onclick=\"convertToInteractive('df-2e79c8f2-7d43-46b9-9b84-8428f14db558')\"\n",
              "              title=\"Convert this dataframe to an interactive table.\"\n",
              "              style=\"display:none;\">\n",
              "        \n",
              "  <svg xmlns=\"http://www.w3.org/2000/svg\" height=\"24px\"viewBox=\"0 0 24 24\"\n",
              "       width=\"24px\">\n",
              "    <path d=\"M0 0h24v24H0V0z\" fill=\"none\"/>\n",
              "    <path d=\"M18.56 5.44l.94 2.06.94-2.06 2.06-.94-2.06-.94-.94-2.06-.94 2.06-2.06.94zm-11 1L8.5 8.5l.94-2.06 2.06-.94-2.06-.94L8.5 2.5l-.94 2.06-2.06.94zm10 10l.94 2.06.94-2.06 2.06-.94-2.06-.94-.94-2.06-.94 2.06-2.06.94z\"/><path d=\"M17.41 7.96l-1.37-1.37c-.4-.4-.92-.59-1.43-.59-.52 0-1.04.2-1.43.59L10.3 9.45l-7.72 7.72c-.78.78-.78 2.05 0 2.83L4 21.41c.39.39.9.59 1.41.59.51 0 1.02-.2 1.41-.59l7.78-7.78 2.81-2.81c.8-.78.8-2.07 0-2.86zM5.41 20L4 18.59l7.72-7.72 1.47 1.35L5.41 20z\"/>\n",
              "  </svg>\n",
              "      </button>\n",
              "      \n",
              "  <style>\n",
              "    .colab-df-container {\n",
              "      display:flex;\n",
              "      flex-wrap:wrap;\n",
              "      gap: 12px;\n",
              "    }\n",
              "\n",
              "    .colab-df-convert {\n",
              "      background-color: #E8F0FE;\n",
              "      border: none;\n",
              "      border-radius: 50%;\n",
              "      cursor: pointer;\n",
              "      display: none;\n",
              "      fill: #1967D2;\n",
              "      height: 32px;\n",
              "      padding: 0 0 0 0;\n",
              "      width: 32px;\n",
              "    }\n",
              "\n",
              "    .colab-df-convert:hover {\n",
              "      background-color: #E2EBFA;\n",
              "      box-shadow: 0px 1px 2px rgba(60, 64, 67, 0.3), 0px 1px 3px 1px rgba(60, 64, 67, 0.15);\n",
              "      fill: #174EA6;\n",
              "    }\n",
              "\n",
              "    [theme=dark] .colab-df-convert {\n",
              "      background-color: #3B4455;\n",
              "      fill: #D2E3FC;\n",
              "    }\n",
              "\n",
              "    [theme=dark] .colab-df-convert:hover {\n",
              "      background-color: #434B5C;\n",
              "      box-shadow: 0px 1px 3px 1px rgba(0, 0, 0, 0.15);\n",
              "      filter: drop-shadow(0px 1px 2px rgba(0, 0, 0, 0.3));\n",
              "      fill: #FFFFFF;\n",
              "    }\n",
              "  </style>\n",
              "\n",
              "      <script>\n",
              "        const buttonEl =\n",
              "          document.querySelector('#df-2e79c8f2-7d43-46b9-9b84-8428f14db558 button.colab-df-convert');\n",
              "        buttonEl.style.display =\n",
              "          google.colab.kernel.accessAllowed ? 'block' : 'none';\n",
              "\n",
              "        async function convertToInteractive(key) {\n",
              "          const element = document.querySelector('#df-2e79c8f2-7d43-46b9-9b84-8428f14db558');\n",
              "          const dataTable =\n",
              "            await google.colab.kernel.invokeFunction('convertToInteractive',\n",
              "                                                     [key], {});\n",
              "          if (!dataTable) return;\n",
              "\n",
              "          const docLinkHtml = 'Like what you see? Visit the ' +\n",
              "            '<a target=\"_blank\" href=https://colab.research.google.com/notebooks/data_table.ipynb>data table notebook</a>'\n",
              "            + ' to learn more about interactive tables.';\n",
              "          element.innerHTML = '';\n",
              "          dataTable['output_type'] = 'display_data';\n",
              "          await google.colab.output.renderOutput(dataTable, element);\n",
              "          const docLink = document.createElement('div');\n",
              "          docLink.innerHTML = docLinkHtml;\n",
              "          element.appendChild(docLink);\n",
              "        }\n",
              "      </script>\n",
              "    </div>\n",
              "  </div>\n",
              "  "
            ]
          },
          "metadata": {}
        },
        {
          "output_type": "stream",
          "name": "stdout",
          "text": [
            "\n",
            "On X test: \n",
            "X test dimensions:  (85443, 30)\n"
          ]
        },
        {
          "output_type": "display_data",
          "data": {
            "text/plain": [
              "            Time        V1        V2        V3        V4        V5        V6  \\\n",
              "34772    37818.0 -1.175792  0.730922  2.161038  1.785405 -0.747073  0.610056   \n",
              "40849    40427.0 -1.137628  0.820015  0.534871  0.909786  0.261743 -0.824944   \n",
              "236600  148876.0  1.903698 -0.499607 -0.417471  0.410356 -0.457666  0.176311   \n",
              "69139    53286.0  1.501556 -0.737981 -0.038703 -1.414446 -1.054984 -1.113152   \n",
              "35113    37969.0  1.255179  0.415270  0.323419  0.685721 -0.294305 -1.052138   \n",
              "\n",
              "              V7        V8        V9  ...       V20       V21       V22  \\\n",
              "34772  -0.226681  0.774999  0.271984  ...  0.209729 -0.260243 -0.381259   \n",
              "40849   0.081064  0.392912 -0.349883  ... -0.023262  0.125876  0.215380   \n",
              "236600 -0.719528  0.164885  0.839337  ... -0.107917  0.323845  1.033948   \n",
              "69139  -0.454810 -0.361994 -2.666622  ... -0.254655 -0.091813  0.160982   \n",
              "35113   0.147617 -0.254034 -0.100733  ... -0.022597 -0.276938 -0.758367   \n",
              "\n",
              "             V23       V24       V25       V26       V27       V28  Amount  \n",
              "34772   0.092140  0.419344 -0.028434 -0.393868  0.316644  0.095543   48.37  \n",
              "40849  -0.263854 -0.162596 -0.182965 -0.294255  0.186506  0.082927    4.64  \n",
              "236600  0.120948  0.767959 -0.208740  0.407666 -0.018655 -0.045125   31.07  \n",
              "69139  -0.084928  0.581525  0.667082 -0.118058  0.001451  0.001522   15.00  \n",
              "35113   0.118027  0.369485  0.245484  0.091361 -0.017497  0.032870    2.69  \n",
              "\n",
              "[5 rows x 30 columns]"
            ],
            "text/html": [
              "\n",
              "  <div id=\"df-9698926e-6d4f-4bea-bf4d-1c26f204a154\">\n",
              "    <div class=\"colab-df-container\">\n",
              "      <div>\n",
              "<style scoped>\n",
              "    .dataframe tbody tr th:only-of-type {\n",
              "        vertical-align: middle;\n",
              "    }\n",
              "\n",
              "    .dataframe tbody tr th {\n",
              "        vertical-align: top;\n",
              "    }\n",
              "\n",
              "    .dataframe thead th {\n",
              "        text-align: right;\n",
              "    }\n",
              "</style>\n",
              "<table border=\"1\" class=\"dataframe\">\n",
              "  <thead>\n",
              "    <tr style=\"text-align: right;\">\n",
              "      <th></th>\n",
              "      <th>Time</th>\n",
              "      <th>V1</th>\n",
              "      <th>V2</th>\n",
              "      <th>V3</th>\n",
              "      <th>V4</th>\n",
              "      <th>V5</th>\n",
              "      <th>V6</th>\n",
              "      <th>V7</th>\n",
              "      <th>V8</th>\n",
              "      <th>V9</th>\n",
              "      <th>...</th>\n",
              "      <th>V20</th>\n",
              "      <th>V21</th>\n",
              "      <th>V22</th>\n",
              "      <th>V23</th>\n",
              "      <th>V24</th>\n",
              "      <th>V25</th>\n",
              "      <th>V26</th>\n",
              "      <th>V27</th>\n",
              "      <th>V28</th>\n",
              "      <th>Amount</th>\n",
              "    </tr>\n",
              "  </thead>\n",
              "  <tbody>\n",
              "    <tr>\n",
              "      <th>34772</th>\n",
              "      <td>37818.0</td>\n",
              "      <td>-1.175792</td>\n",
              "      <td>0.730922</td>\n",
              "      <td>2.161038</td>\n",
              "      <td>1.785405</td>\n",
              "      <td>-0.747073</td>\n",
              "      <td>0.610056</td>\n",
              "      <td>-0.226681</td>\n",
              "      <td>0.774999</td>\n",
              "      <td>0.271984</td>\n",
              "      <td>...</td>\n",
              "      <td>0.209729</td>\n",
              "      <td>-0.260243</td>\n",
              "      <td>-0.381259</td>\n",
              "      <td>0.092140</td>\n",
              "      <td>0.419344</td>\n",
              "      <td>-0.028434</td>\n",
              "      <td>-0.393868</td>\n",
              "      <td>0.316644</td>\n",
              "      <td>0.095543</td>\n",
              "      <td>48.37</td>\n",
              "    </tr>\n",
              "    <tr>\n",
              "      <th>40849</th>\n",
              "      <td>40427.0</td>\n",
              "      <td>-1.137628</td>\n",
              "      <td>0.820015</td>\n",
              "      <td>0.534871</td>\n",
              "      <td>0.909786</td>\n",
              "      <td>0.261743</td>\n",
              "      <td>-0.824944</td>\n",
              "      <td>0.081064</td>\n",
              "      <td>0.392912</td>\n",
              "      <td>-0.349883</td>\n",
              "      <td>...</td>\n",
              "      <td>-0.023262</td>\n",
              "      <td>0.125876</td>\n",
              "      <td>0.215380</td>\n",
              "      <td>-0.263854</td>\n",
              "      <td>-0.162596</td>\n",
              "      <td>-0.182965</td>\n",
              "      <td>-0.294255</td>\n",
              "      <td>0.186506</td>\n",
              "      <td>0.082927</td>\n",
              "      <td>4.64</td>\n",
              "    </tr>\n",
              "    <tr>\n",
              "      <th>236600</th>\n",
              "      <td>148876.0</td>\n",
              "      <td>1.903698</td>\n",
              "      <td>-0.499607</td>\n",
              "      <td>-0.417471</td>\n",
              "      <td>0.410356</td>\n",
              "      <td>-0.457666</td>\n",
              "      <td>0.176311</td>\n",
              "      <td>-0.719528</td>\n",
              "      <td>0.164885</td>\n",
              "      <td>0.839337</td>\n",
              "      <td>...</td>\n",
              "      <td>-0.107917</td>\n",
              "      <td>0.323845</td>\n",
              "      <td>1.033948</td>\n",
              "      <td>0.120948</td>\n",
              "      <td>0.767959</td>\n",
              "      <td>-0.208740</td>\n",
              "      <td>0.407666</td>\n",
              "      <td>-0.018655</td>\n",
              "      <td>-0.045125</td>\n",
              "      <td>31.07</td>\n",
              "    </tr>\n",
              "    <tr>\n",
              "      <th>69139</th>\n",
              "      <td>53286.0</td>\n",
              "      <td>1.501556</td>\n",
              "      <td>-0.737981</td>\n",
              "      <td>-0.038703</td>\n",
              "      <td>-1.414446</td>\n",
              "      <td>-1.054984</td>\n",
              "      <td>-1.113152</td>\n",
              "      <td>-0.454810</td>\n",
              "      <td>-0.361994</td>\n",
              "      <td>-2.666622</td>\n",
              "      <td>...</td>\n",
              "      <td>-0.254655</td>\n",
              "      <td>-0.091813</td>\n",
              "      <td>0.160982</td>\n",
              "      <td>-0.084928</td>\n",
              "      <td>0.581525</td>\n",
              "      <td>0.667082</td>\n",
              "      <td>-0.118058</td>\n",
              "      <td>0.001451</td>\n",
              "      <td>0.001522</td>\n",
              "      <td>15.00</td>\n",
              "    </tr>\n",
              "    <tr>\n",
              "      <th>35113</th>\n",
              "      <td>37969.0</td>\n",
              "      <td>1.255179</td>\n",
              "      <td>0.415270</td>\n",
              "      <td>0.323419</td>\n",
              "      <td>0.685721</td>\n",
              "      <td>-0.294305</td>\n",
              "      <td>-1.052138</td>\n",
              "      <td>0.147617</td>\n",
              "      <td>-0.254034</td>\n",
              "      <td>-0.100733</td>\n",
              "      <td>...</td>\n",
              "      <td>-0.022597</td>\n",
              "      <td>-0.276938</td>\n",
              "      <td>-0.758367</td>\n",
              "      <td>0.118027</td>\n",
              "      <td>0.369485</td>\n",
              "      <td>0.245484</td>\n",
              "      <td>0.091361</td>\n",
              "      <td>-0.017497</td>\n",
              "      <td>0.032870</td>\n",
              "      <td>2.69</td>\n",
              "    </tr>\n",
              "  </tbody>\n",
              "</table>\n",
              "<p>5 rows × 30 columns</p>\n",
              "</div>\n",
              "      <button class=\"colab-df-convert\" onclick=\"convertToInteractive('df-9698926e-6d4f-4bea-bf4d-1c26f204a154')\"\n",
              "              title=\"Convert this dataframe to an interactive table.\"\n",
              "              style=\"display:none;\">\n",
              "        \n",
              "  <svg xmlns=\"http://www.w3.org/2000/svg\" height=\"24px\"viewBox=\"0 0 24 24\"\n",
              "       width=\"24px\">\n",
              "    <path d=\"M0 0h24v24H0V0z\" fill=\"none\"/>\n",
              "    <path d=\"M18.56 5.44l.94 2.06.94-2.06 2.06-.94-2.06-.94-.94-2.06-.94 2.06-2.06.94zm-11 1L8.5 8.5l.94-2.06 2.06-.94-2.06-.94L8.5 2.5l-.94 2.06-2.06.94zm10 10l.94 2.06.94-2.06 2.06-.94-2.06-.94-.94-2.06-.94 2.06-2.06.94z\"/><path d=\"M17.41 7.96l-1.37-1.37c-.4-.4-.92-.59-1.43-.59-.52 0-1.04.2-1.43.59L10.3 9.45l-7.72 7.72c-.78.78-.78 2.05 0 2.83L4 21.41c.39.39.9.59 1.41.59.51 0 1.02-.2 1.41-.59l7.78-7.78 2.81-2.81c.8-.78.8-2.07 0-2.86zM5.41 20L4 18.59l7.72-7.72 1.47 1.35L5.41 20z\"/>\n",
              "  </svg>\n",
              "      </button>\n",
              "      \n",
              "  <style>\n",
              "    .colab-df-container {\n",
              "      display:flex;\n",
              "      flex-wrap:wrap;\n",
              "      gap: 12px;\n",
              "    }\n",
              "\n",
              "    .colab-df-convert {\n",
              "      background-color: #E8F0FE;\n",
              "      border: none;\n",
              "      border-radius: 50%;\n",
              "      cursor: pointer;\n",
              "      display: none;\n",
              "      fill: #1967D2;\n",
              "      height: 32px;\n",
              "      padding: 0 0 0 0;\n",
              "      width: 32px;\n",
              "    }\n",
              "\n",
              "    .colab-df-convert:hover {\n",
              "      background-color: #E2EBFA;\n",
              "      box-shadow: 0px 1px 2px rgba(60, 64, 67, 0.3), 0px 1px 3px 1px rgba(60, 64, 67, 0.15);\n",
              "      fill: #174EA6;\n",
              "    }\n",
              "\n",
              "    [theme=dark] .colab-df-convert {\n",
              "      background-color: #3B4455;\n",
              "      fill: #D2E3FC;\n",
              "    }\n",
              "\n",
              "    [theme=dark] .colab-df-convert:hover {\n",
              "      background-color: #434B5C;\n",
              "      box-shadow: 0px 1px 3px 1px rgba(0, 0, 0, 0.15);\n",
              "      filter: drop-shadow(0px 1px 2px rgba(0, 0, 0, 0.3));\n",
              "      fill: #FFFFFF;\n",
              "    }\n",
              "  </style>\n",
              "\n",
              "      <script>\n",
              "        const buttonEl =\n",
              "          document.querySelector('#df-9698926e-6d4f-4bea-bf4d-1c26f204a154 button.colab-df-convert');\n",
              "        buttonEl.style.display =\n",
              "          google.colab.kernel.accessAllowed ? 'block' : 'none';\n",
              "\n",
              "        async function convertToInteractive(key) {\n",
              "          const element = document.querySelector('#df-9698926e-6d4f-4bea-bf4d-1c26f204a154');\n",
              "          const dataTable =\n",
              "            await google.colab.kernel.invokeFunction('convertToInteractive',\n",
              "                                                     [key], {});\n",
              "          if (!dataTable) return;\n",
              "\n",
              "          const docLinkHtml = 'Like what you see? Visit the ' +\n",
              "            '<a target=\"_blank\" href=https://colab.research.google.com/notebooks/data_table.ipynb>data table notebook</a>'\n",
              "            + ' to learn more about interactive tables.';\n",
              "          element.innerHTML = '';\n",
              "          dataTable['output_type'] = 'display_data';\n",
              "          await google.colab.output.renderOutput(dataTable, element);\n",
              "          const docLink = document.createElement('div');\n",
              "          docLink.innerHTML = docLinkHtml;\n",
              "          element.appendChild(docLink);\n",
              "        }\n",
              "      </script>\n",
              "    </div>\n",
              "  </div>\n",
              "  "
            ]
          },
          "metadata": {}
        }
      ]
    },
    {
      "cell_type": "code",
      "source": [
        "# Check dimensions of Y\n",
        "# Y Train\n",
        "print('On Y train: ')\n",
        "print('Y train dimensions: ', y_train.shape)\n",
        "display(y_train.head())\n",
        "\n",
        "# Y test\n",
        "print('\\nOn Y test: ')\n",
        "print('Y test dimensions: ', y_test.shape)\n",
        "display(y_test.head())"
      ],
      "metadata": {
        "id": "vAaa0WiP8pcE",
        "outputId": "d59a9ae4-3e78-4326-ceac-50fea7191690",
        "colab": {
          "base_uri": "https://localhost:8080/",
          "height": 312
        }
      },
      "execution_count": 6,
      "outputs": [
        {
          "output_type": "stream",
          "name": "stdout",
          "text": [
            "On Y train: \n",
            "Y train dimensions:  (199364,)\n"
          ]
        },
        {
          "output_type": "display_data",
          "data": {
            "text/plain": [
              "239375    0\n",
              "269964    0\n",
              "202400    0\n",
              "247498    0\n",
              "44749     0\n",
              "Name: class, dtype: int64"
            ]
          },
          "metadata": {}
        },
        {
          "output_type": "stream",
          "name": "stdout",
          "text": [
            "\n",
            "On Y test: \n",
            "Y test dimensions:  (85443,)\n"
          ]
        },
        {
          "output_type": "display_data",
          "data": {
            "text/plain": [
              "34772     0\n",
              "40849     0\n",
              "236600    0\n",
              "69139     0\n",
              "35113     0\n",
              "Name: class, dtype: int64"
            ]
          },
          "metadata": {}
        }
      ]
    },
    {
      "cell_type": "markdown",
      "source": [
        "## Pipeline\n"
      ],
      "metadata": {
        "id": "rRDn6R0huObI"
      }
    },
    {
      "cell_type": "markdown",
      "source": [
        "### Logistic Regression\n",
        "\n",
        "I'm using a `StandardScaler()` and `SimpleImputer()` to deal with the numerical values in the my pipeline."
      ],
      "metadata": {
        "id": "GZer6CC0uTGn"
      }
    },
    {
      "cell_type": "code",
      "source": [
        "# Build pipeline for building numerical data\n",
        "\n",
        "num_pipeline = Pipeline(steps=[('scale_num', StandardScaler()),\n",
        "                                ('num_imputer', SimpleImputer(missing_values=np.nan, strategy=\"mean\"))])\n",
        "preproc_pipe = ColumnTransformer([('num_pipe', num_pipeline, make_column_selector(dtype_include=np.number))],\n",
        "                                 remainder='passthrough')"
      ],
      "metadata": {
        "id": "dnFkjSOcuVW3"
      },
      "execution_count": 7,
      "outputs": []
    },
    {
      "cell_type": "code",
      "source": [
        "# Build model pipeline\n",
        "logistic_regression_pipe = Pipeline(steps=[('Preprocessing', num_pipeline),\n",
        "                                           ('Model', LogisticRegression(penalty='elasticnet', solver='saga', tol=0.01))])\n",
        "\n",
        "# View Pipeline\n",
        "with config_context(display='diagram'):\n",
        "    display(logistic_regression_pipe)"
      ],
      "metadata": {
        "id": "gZWwbas04KJU",
        "outputId": "5e19a0d2-1bb9-4b4c-eb7c-afbbf68edb3f",
        "colab": {
          "base_uri": "https://localhost:8080/",
          "height": 186
        }
      },
      "execution_count": 8,
      "outputs": [
        {
          "output_type": "display_data",
          "data": {
            "text/plain": [
              "Pipeline(steps=[('Preprocessing',\n",
              "                 Pipeline(steps=[('scale_num', StandardScaler()),\n",
              "                                 ('num_imputer', SimpleImputer())])),\n",
              "                ('Model',\n",
              "                 LogisticRegression(penalty='elasticnet', solver='saga',\n",
              "                                    tol=0.01))])"
            ],
            "text/html": [
              "<style>#sk-e3d2c975-3af4-48ab-b1fb-0ecc357e679f {color: black;background-color: white;}#sk-e3d2c975-3af4-48ab-b1fb-0ecc357e679f pre{padding: 0;}#sk-e3d2c975-3af4-48ab-b1fb-0ecc357e679f div.sk-toggleable {background-color: white;}#sk-e3d2c975-3af4-48ab-b1fb-0ecc357e679f label.sk-toggleable__label {cursor: pointer;display: block;width: 100%;margin-bottom: 0;padding: 0.3em;box-sizing: border-box;text-align: center;}#sk-e3d2c975-3af4-48ab-b1fb-0ecc357e679f label.sk-toggleable__label-arrow:before {content: \"▸\";float: left;margin-right: 0.25em;color: #696969;}#sk-e3d2c975-3af4-48ab-b1fb-0ecc357e679f label.sk-toggleable__label-arrow:hover:before {color: black;}#sk-e3d2c975-3af4-48ab-b1fb-0ecc357e679f div.sk-estimator:hover label.sk-toggleable__label-arrow:before {color: black;}#sk-e3d2c975-3af4-48ab-b1fb-0ecc357e679f div.sk-toggleable__content {max-height: 0;max-width: 0;overflow: hidden;text-align: left;background-color: #f0f8ff;}#sk-e3d2c975-3af4-48ab-b1fb-0ecc357e679f div.sk-toggleable__content pre {margin: 0.2em;color: black;border-radius: 0.25em;background-color: #f0f8ff;}#sk-e3d2c975-3af4-48ab-b1fb-0ecc357e679f input.sk-toggleable__control:checked~div.sk-toggleable__content {max-height: 200px;max-width: 100%;overflow: auto;}#sk-e3d2c975-3af4-48ab-b1fb-0ecc357e679f input.sk-toggleable__control:checked~label.sk-toggleable__label-arrow:before {content: \"▾\";}#sk-e3d2c975-3af4-48ab-b1fb-0ecc357e679f div.sk-estimator input.sk-toggleable__control:checked~label.sk-toggleable__label {background-color: #d4ebff;}#sk-e3d2c975-3af4-48ab-b1fb-0ecc357e679f div.sk-label input.sk-toggleable__control:checked~label.sk-toggleable__label {background-color: #d4ebff;}#sk-e3d2c975-3af4-48ab-b1fb-0ecc357e679f input.sk-hidden--visually {border: 0;clip: rect(1px 1px 1px 1px);clip: rect(1px, 1px, 1px, 1px);height: 1px;margin: -1px;overflow: hidden;padding: 0;position: absolute;width: 1px;}#sk-e3d2c975-3af4-48ab-b1fb-0ecc357e679f div.sk-estimator {font-family: monospace;background-color: #f0f8ff;border: 1px dotted black;border-radius: 0.25em;box-sizing: border-box;margin-bottom: 0.5em;}#sk-e3d2c975-3af4-48ab-b1fb-0ecc357e679f div.sk-estimator:hover {background-color: #d4ebff;}#sk-e3d2c975-3af4-48ab-b1fb-0ecc357e679f div.sk-parallel-item::after {content: \"\";width: 100%;border-bottom: 1px solid gray;flex-grow: 1;}#sk-e3d2c975-3af4-48ab-b1fb-0ecc357e679f div.sk-label:hover label.sk-toggleable__label {background-color: #d4ebff;}#sk-e3d2c975-3af4-48ab-b1fb-0ecc357e679f div.sk-serial::before {content: \"\";position: absolute;border-left: 1px solid gray;box-sizing: border-box;top: 2em;bottom: 0;left: 50%;}#sk-e3d2c975-3af4-48ab-b1fb-0ecc357e679f div.sk-serial {display: flex;flex-direction: column;align-items: center;background-color: white;padding-right: 0.2em;padding-left: 0.2em;}#sk-e3d2c975-3af4-48ab-b1fb-0ecc357e679f div.sk-item {z-index: 1;}#sk-e3d2c975-3af4-48ab-b1fb-0ecc357e679f div.sk-parallel {display: flex;align-items: stretch;justify-content: center;background-color: white;}#sk-e3d2c975-3af4-48ab-b1fb-0ecc357e679f div.sk-parallel::before {content: \"\";position: absolute;border-left: 1px solid gray;box-sizing: border-box;top: 2em;bottom: 0;left: 50%;}#sk-e3d2c975-3af4-48ab-b1fb-0ecc357e679f div.sk-parallel-item {display: flex;flex-direction: column;position: relative;background-color: white;}#sk-e3d2c975-3af4-48ab-b1fb-0ecc357e679f div.sk-parallel-item:first-child::after {align-self: flex-end;width: 50%;}#sk-e3d2c975-3af4-48ab-b1fb-0ecc357e679f div.sk-parallel-item:last-child::after {align-self: flex-start;width: 50%;}#sk-e3d2c975-3af4-48ab-b1fb-0ecc357e679f div.sk-parallel-item:only-child::after {width: 0;}#sk-e3d2c975-3af4-48ab-b1fb-0ecc357e679f div.sk-dashed-wrapped {border: 1px dashed gray;margin: 0 0.4em 0.5em 0.4em;box-sizing: border-box;padding-bottom: 0.4em;background-color: white;position: relative;}#sk-e3d2c975-3af4-48ab-b1fb-0ecc357e679f div.sk-label label {font-family: monospace;font-weight: bold;background-color: white;display: inline-block;line-height: 1.2em;}#sk-e3d2c975-3af4-48ab-b1fb-0ecc357e679f div.sk-label-container {position: relative;z-index: 2;text-align: center;}#sk-e3d2c975-3af4-48ab-b1fb-0ecc357e679f div.sk-container {/* jupyter's `normalize.less` sets `[hidden] { display: none; }` but bootstrap.min.css set `[hidden] { display: none !important; }` so we also need the `!important` here to be able to override the default hidden behavior on the sphinx rendered scikit-learn.org. See: https://github.com/scikit-learn/scikit-learn/issues/21755 */display: inline-block !important;position: relative;}#sk-e3d2c975-3af4-48ab-b1fb-0ecc357e679f div.sk-text-repr-fallback {display: none;}</style><div id=\"sk-e3d2c975-3af4-48ab-b1fb-0ecc357e679f\" class=\"sk-top-container\"><div class=\"sk-text-repr-fallback\"><pre>Pipeline(steps=[(&#x27;Preprocessing&#x27;,\n",
              "                 Pipeline(steps=[(&#x27;scale_num&#x27;, StandardScaler()),\n",
              "                                 (&#x27;num_imputer&#x27;, SimpleImputer())])),\n",
              "                (&#x27;Model&#x27;,\n",
              "                 LogisticRegression(penalty=&#x27;elasticnet&#x27;, solver=&#x27;saga&#x27;,\n",
              "                                    tol=0.01))])</pre><b>Please rerun this cell to show the HTML repr or trust the notebook.</b></div><div class=\"sk-container\" hidden><div class=\"sk-item sk-dashed-wrapped\"><div class=\"sk-label-container\"><div class=\"sk-label sk-toggleable\"><input class=\"sk-toggleable__control sk-hidden--visually\" id=\"7b959fb7-f69f-4e7b-ab02-4fd194042fab\" type=\"checkbox\" ><label for=\"7b959fb7-f69f-4e7b-ab02-4fd194042fab\" class=\"sk-toggleable__label sk-toggleable__label-arrow\">Pipeline</label><div class=\"sk-toggleable__content\"><pre>Pipeline(steps=[(&#x27;Preprocessing&#x27;,\n",
              "                 Pipeline(steps=[(&#x27;scale_num&#x27;, StandardScaler()),\n",
              "                                 (&#x27;num_imputer&#x27;, SimpleImputer())])),\n",
              "                (&#x27;Model&#x27;,\n",
              "                 LogisticRegression(penalty=&#x27;elasticnet&#x27;, solver=&#x27;saga&#x27;,\n",
              "                                    tol=0.01))])</pre></div></div></div><div class=\"sk-serial\"><div class=\"sk-item\"><div class=\"sk-label-container\"><div class=\"sk-label sk-toggleable\"><input class=\"sk-toggleable__control sk-hidden--visually\" id=\"3d05110d-5f6b-4ed7-9d4a-d15921e2cc3c\" type=\"checkbox\" ><label for=\"3d05110d-5f6b-4ed7-9d4a-d15921e2cc3c\" class=\"sk-toggleable__label sk-toggleable__label-arrow\">Preprocessing: Pipeline</label><div class=\"sk-toggleable__content\"><pre>Pipeline(steps=[(&#x27;scale_num&#x27;, StandardScaler()),\n",
              "                (&#x27;num_imputer&#x27;, SimpleImputer())])</pre></div></div></div><div class=\"sk-serial\"><div class=\"sk-item\"><div class=\"sk-estimator sk-toggleable\"><input class=\"sk-toggleable__control sk-hidden--visually\" id=\"b628ede6-9581-4edc-90f8-44a5b3310c67\" type=\"checkbox\" ><label for=\"b628ede6-9581-4edc-90f8-44a5b3310c67\" class=\"sk-toggleable__label sk-toggleable__label-arrow\">StandardScaler</label><div class=\"sk-toggleable__content\"><pre>StandardScaler()</pre></div></div></div><div class=\"sk-item\"><div class=\"sk-estimator sk-toggleable\"><input class=\"sk-toggleable__control sk-hidden--visually\" id=\"0bfa78ea-929e-4a28-9d59-e77fbb7f8e7d\" type=\"checkbox\" ><label for=\"0bfa78ea-929e-4a28-9d59-e77fbb7f8e7d\" class=\"sk-toggleable__label sk-toggleable__label-arrow\">SimpleImputer</label><div class=\"sk-toggleable__content\"><pre>SimpleImputer()</pre></div></div></div></div></div><div class=\"sk-item\"><div class=\"sk-estimator sk-toggleable\"><input class=\"sk-toggleable__control sk-hidden--visually\" id=\"ae6a168f-1c41-496e-9351-b51a04110389\" type=\"checkbox\" ><label for=\"ae6a168f-1c41-496e-9351-b51a04110389\" class=\"sk-toggleable__label sk-toggleable__label-arrow\">LogisticRegression</label><div class=\"sk-toggleable__content\"><pre>LogisticRegression(penalty=&#x27;elasticnet&#x27;, solver=&#x27;saga&#x27;, tol=0.01)</pre></div></div></div></div></div></div></div>"
            ]
          },
          "metadata": {}
        }
      ]
    },
    {
      "cell_type": "markdown",
      "source": [
        "## Model Fit & Evaluation"
      ],
      "metadata": {
        "id": "ie44dLYi9iGR"
      }
    },
    {
      "cell_type": "markdown",
      "source": [
        "### Logistic Regression Fit & Evaluation\n",
        "\n",
        "`GridSearchCV()` is used for hyperparameter tuning."
      ],
      "metadata": {
        "id": "5gudQMc89nl6"
      }
    },
    {
      "cell_type": "code",
      "source": [
        "# Setup Tuning Grid & Grid Search for Logistic Regression with and without Feature Engineering\n",
        "\n",
        "logistic_regression_tuning_grid = {'Model__l1_ratio': np.linspace(0,1,5),\n",
        "                                   'Model__C': np.logspace(-1,6,3)}\n",
        "\n",
        "logistic_regression_grid_search = GridSearchCV(logistic_regression_pipe, param_grid=logistic_regression_tuning_grid, return_train_score=True, n_jobs=-1)"
      ],
      "metadata": {
        "id": "-uW4k6Xa9uK7"
      },
      "execution_count": 9,
      "outputs": []
    },
    {
      "cell_type": "code",
      "source": [
        "# Perform Hyperparameter tuning using Grid Search\n",
        "logistic_regression_grid_search.fit(X_train, y_train)"
      ],
      "metadata": {
        "id": "Z9a9iTSQ-pGQ",
        "outputId": "019dcc9f-1d16-4acb-cd73-ffd9c1878a5b",
        "colab": {
          "base_uri": "https://localhost:8080/"
        }
      },
      "execution_count": 10,
      "outputs": [
        {
          "output_type": "execute_result",
          "data": {
            "text/plain": [
              "GridSearchCV(estimator=Pipeline(steps=[('Preprocessing',\n",
              "                                        Pipeline(steps=[('scale_num',\n",
              "                                                         StandardScaler()),\n",
              "                                                        ('num_imputer',\n",
              "                                                         SimpleImputer())])),\n",
              "                                       ('Model',\n",
              "                                        LogisticRegression(penalty='elasticnet',\n",
              "                                                           solver='saga',\n",
              "                                                           tol=0.01))]),\n",
              "             n_jobs=-1,\n",
              "             param_grid={'Model__C': array([1.00000000e-01, 3.16227766e+02, 1.00000000e+06]),\n",
              "                         'Model__l1_ratio': array([0.  , 0.25, 0.5 , 0.75, 1.  ])},\n",
              "             return_train_score=True)"
            ]
          },
          "metadata": {},
          "execution_count": 10
        }
      ]
    },
    {
      "cell_type": "code",
      "source": [
        "# logistic regression best model parameteres and values\n",
        "print(logistic_regression_grid_search.best_score_)\n",
        "print(logistic_regression_grid_search.best_params_)"
      ],
      "metadata": {
        "id": "9jewzs11_WCR",
        "outputId": "006aaf0f-2b7a-4baa-a811-aaf1f4b95933",
        "colab": {
          "base_uri": "https://localhost:8080/"
        }
      },
      "execution_count": 11,
      "outputs": [
        {
          "output_type": "stream",
          "name": "stdout",
          "text": [
            "0.9991472882511523\n",
            "{'Model__C': 1000000.0, 'Model__l1_ratio': 0.5}\n"
          ]
        }
      ]
    },
    {
      "cell_type": "code",
      "source": [
        "# logistic regression best estimator pipeline\n",
        "logistic_regression_grid_search.best_estimator_"
      ],
      "metadata": {
        "id": "KXLe6hX6_bD0",
        "outputId": "3b78d5fe-c870-4f23-e582-6e97ed7f08bd",
        "colab": {
          "base_uri": "https://localhost:8080/"
        }
      },
      "execution_count": 12,
      "outputs": [
        {
          "output_type": "execute_result",
          "data": {
            "text/plain": [
              "Pipeline(steps=[('Preprocessing',\n",
              "                 Pipeline(steps=[('scale_num', StandardScaler()),\n",
              "                                 ('num_imputer', SimpleImputer())])),\n",
              "                ('Model',\n",
              "                 LogisticRegression(C=1000000.0, l1_ratio=0.5,\n",
              "                                    penalty='elasticnet', solver='saga',\n",
              "                                    tol=0.01))])"
            ]
          },
          "metadata": {},
          "execution_count": 12
        }
      ]
    },
    {
      "cell_type": "markdown",
      "source": [
        "## Performance Metrics\n",
        "\n",
        "Confusion matrices are created for the standard predictions and the predictions with the altered threshold calculated from the ROC curve."
      ],
      "metadata": {
        "id": "Ld46X4QfA8p3"
      }
    },
    {
      "cell_type": "code",
      "source": [
        "# Classification Report for logistic regression model\n",
        "print(classification_report(y_test, logistic_regression_grid_search.best_estimator_.predict(X_test)))"
      ],
      "metadata": {
        "id": "ko0bj-2LBwfn",
        "outputId": "45137460-dde6-4bfd-b9c1-eb623e24985e",
        "colab": {
          "base_uri": "https://localhost:8080/"
        }
      },
      "execution_count": 14,
      "outputs": [
        {
          "output_type": "stream",
          "name": "stdout",
          "text": [
            "              precision    recall  f1-score   support\n",
            "\n",
            "           0       1.00      1.00      1.00     85295\n",
            "           1       0.86      0.65      0.74       148\n",
            "\n",
            "    accuracy                           1.00     85443\n",
            "   macro avg       0.93      0.82      0.87     85443\n",
            "weighted avg       1.00      1.00      1.00     85443\n",
            "\n"
          ]
        }
      ]
    },
    {
      "cell_type": "code",
      "source": [
        "# Confusion Matrix for logistic regression model\n",
        "\n",
        "lr_cm = confusion_matrix(y_test, logistic_regression_grid_search.best_estimator_.predict(X_test))\n",
        "lr_disp = ConfusionMatrixDisplay(confusion_matrix=lr_cm,\n",
        "                                    display_labels=['Not Fraud', 'Fraud'])\n",
        "lr_disp.plot()\n",
        "plt.show()"
      ],
      "metadata": {
        "id": "jXrLjLQE18e_",
        "outputId": "7973df8c-79d6-4e1e-e574-154ffec137ec",
        "colab": {
          "base_uri": "https://localhost:8080/",
          "height": 279
        }
      },
      "execution_count": 15,
      "outputs": [
        {
          "output_type": "display_data",
          "data": {
            "text/plain": [
              "<Figure size 432x288 with 2 Axes>"
            ],
            "image/png": "[encoded data removed]"
          },
          "metadata": {
            "needs_background": "light"
          }
        }
      ]
    },
    {
      "cell_type": "markdown",
      "source": [
        "### ROC Curve"
      ],
      "metadata": {
        "id": "tpVv5yiXEDmF"
      }
    },
    {
      "cell_type": "code",
      "source": [
        "from numpy import sqrt\n",
        "from numpy import argmax\n",
        "\n",
        "# ROC curve for logistic regression model with optimal threshold\n",
        "\n",
        "# predict probabilities\n",
        "yhat = logistic_regression_grid_search.best_estimator_.predict_proba(X_test)\n",
        "# keep probabilities for the positive outcome only\n",
        "yhat = yhat[:, 1]\n",
        "# calculate roc curves\n",
        "fpr, tpr, thresholds = roc_curve(y_test, yhat)\n",
        "# calculate the g-mean for each threshold\n",
        "gmeans = sqrt(tpr * (1-fpr))\n",
        "# locate the index of the largest g-mean\n",
        "ix = argmax(gmeans)\n",
        "print('Best Threshold=%f, G-Mean=%.3f' % (thresholds[ix], gmeans[ix]))\n",
        "# plot the roc curve for the model\n",
        "plt.plot([0,1], [0,1], linestyle='--', label='No Skill')\n",
        "plt.plot(fpr, tpr, marker='.', label='Logistic')\n",
        "plt.scatter(fpr[ix], tpr[ix], marker='o', color='black', label='Best')\n",
        "# axis labels\n",
        "plt.xlabel('False Positive Rate')\n",
        "plt.ylabel('True Positive Rate')\n",
        "plt.legend()\n",
        "# show the plot\n",
        "plt.show()"
      ],
      "metadata": {
        "id": "33evVEUEEFVf",
        "outputId": "158c92ee-e272-441d-c5cb-e0946a369bf1",
        "colab": {
          "base_uri": "https://localhost:8080/",
          "height": 296
        }
      },
      "execution_count": 16,
      "outputs": [
        {
          "output_type": "stream",
          "name": "stdout",
          "text": [
            "Best Threshold=0.007888, G-Mean=0.961\n"
          ]
        },
        {
          "output_type": "display_data",
          "data": {
            "text/plain": [
              "<Figure size 432x288 with 1 Axes>"
            ],
            "image/png": "[encoded data removed]"
          },
          "metadata": {
            "needs_background": "light"
          }
        }
      ]
    },
    {
      "cell_type": "code",
      "source": [
        "# Classificiation Report with predictions using optimal threshold\n",
        "\n",
        "threshold = thresholds[ix]\n",
        "y_pred = (logistic_regression_grid_search.best_estimator_.predict_proba(X_test)[:, 1] > threshold).astype('float')\n",
        "print(classification_report(y_test, y_pred))"
      ],
      "metadata": {
        "id": "kJIsaiFmFf6J",
        "outputId": "1331f413-4fc9-4ec5-f9d8-f7e9d56f1808",
        "colab": {
          "base_uri": "https://localhost:8080/"
        }
      },
      "execution_count": 17,
      "outputs": [
        {
          "output_type": "stream",
          "name": "stdout",
          "text": [
            "              precision    recall  f1-score   support\n",
            "\n",
            "           0       1.00      0.99      1.00     85295\n",
            "           1       0.15      0.93      0.25       148\n",
            "\n",
            "    accuracy                           0.99     85443\n",
            "   macro avg       0.57      0.96      0.62     85443\n",
            "weighted avg       1.00      0.99      0.99     85443\n",
            "\n"
          ]
        }
      ]
    },
    {
      "cell_type": "code",
      "source": [
        "# Confusion Matrix for logistic regression model after using optimal threshold\n",
        "\n",
        "lr_cm_thresh = confusion_matrix(y_test, y_pred)\n",
        "lr_thresh_disp = ConfusionMatrixDisplay(confusion_matrix=lr_cm_thresh,\n",
        "                                    display_labels=['Not Fraud', 'Fraud'])\n",
        "lr_thresh_disp.plot()\n",
        "plt.show()"
      ],
      "metadata": {
        "id": "LUWpM6Y14v7M",
        "outputId": "b2889ef8-5aef-461b-f13a-f84bd0546507",
        "colab": {
          "base_uri": "https://localhost:8080/",
          "height": 279
        }
      },
      "execution_count": 18,
      "outputs": [
        {
          "output_type": "display_data",
          "data": {
            "text/plain": [
              "<Figure size 432x288 with 2 Axes>"
            ],
            "image/png": "[encoded data removed]"
          },
          "metadata": {
            "needs_background": "light"
          }
        }
      ]
    },
    {
      "cell_type": "markdown",
      "source": [
        "### Potential Business Metrics"
      ],
      "metadata": {
        "id": "OAfHEMJZ-qk9"
      }
    },
    {
      "cell_type": "markdown",
      "source": [
        "For practice purposes, let's make some monetary assumptions about all cases in the confusion matrix. This will be a division of a bank whose clients are high net worth individuals.\n",
        "\n",
        "- True Positive: True label = Not Fraud & Predicted label = Not Fraud\n",
        "    - In this instance we've predicted a transaction to not be fraudulent and its true label is not fraudulent which results in no cost.\n",
        "\n",
        "- False Positive: True label = Not Fraud & Predicted label = Fraud\n",
        "    - In this instance we've predicted a transaction to be fraudulent but it turns out that it isn't.\n",
        "    - The cost here is the refunding of a transaction when not needed. Since the average fraudulent transaction is $300, that'll be the cost per transaction.\n",
        "        - $300(t) = COST\n",
        "\n",
        "- False Negative: True label = Fraud & Predicted label = Not Fraud\n",
        "    - In this instance we've predicted a transaction to not be fraudulent but it turns out that it is fraudulent.\n",
        "    - The cost here is the customer having to call customer service to report a fraudulent transaction which leads to a loss of customer every 10 transactions. This is estimated to cost $100K on average by losing on transaction fees from millions of dollars of purchases per customer. The fraudulent charges are still refunded so we'll use the same formula as above for that portion of the equation.\n",
        "        - t/10(100,000) + 300(t) = COST\n",
        " \n",
        "- True Negative: True label = Fraud & Predicted label = Fraud\n",
        "    - In this instance we've predicted a transaction to be fraudulent and its true label is fraudulent which results in no cost."
      ],
      "metadata": {
        "id": "rdoyXalA-uWT"
      }
    },
    {
      "cell_type": "code",
      "source": [
        "# Logistic Regression Business Costs\n",
        "\n",
        "lr_true_non = 0\n",
        "lr_false_non = (300*(lr_cm[0][1]))\n",
        "lr_false_fraud = ((lr_cm[1][0] // 10)*(100000)) + (300*(lr_cm[1][0]))\n",
        "lr_true_fraud = 0\n",
        "\n",
        "lr_total_cost = (lr_true_non + lr_false_non + lr_false_fraud + lr_true_fraud)\n",
        "\n",
        "print(f'The total business cost using a logistic regression model is ${lr_total_cost}')"
      ],
      "metadata": {
        "id": "I0dhFSyVuEmR",
        "outputId": "7ced638c-c6b7-4ca8-8e21-deffb98cda6e",
        "colab": {
          "base_uri": "https://localhost:8080/"
        }
      },
      "execution_count": 40,
      "outputs": [
        {
          "output_type": "stream",
          "name": "stdout",
          "text": [
            "The total business cost using a logistic regression model is $520400\n"
          ]
        }
      ]
    },
    {
      "cell_type": "code",
      "source": [
        "# Logistic Regression with Threshold Business Costs\n",
        "\n",
        "lrt_true_non = 0\n",
        "lrt_false_non = (300*(lr_cm_thresh[0][1]))\n",
        "lrt_false_fraud = ((lr_cm_thresh[1][0] // 10)*(100000)) + (300*(lr_cm_thresh[1][0]))\n",
        "lrt_true_fraud = 0\n",
        "\n",
        "lrt_total_cost = (lrt_true_non + lrt_false_non + lrt_false_fraud + lrt_true_fraud)\n",
        "\n",
        "print(f'The total business cost using a logistic regression model using the ROC threshold is ${lrt_total_cost}')"
      ],
      "metadata": {
        "id": "_yBvRPSwutLd",
        "outputId": "a4e4b48c-75be-4d30-bbc8-4c84e9034941",
        "colab": {
          "base_uri": "https://localhost:8080/"
        }
      },
      "execution_count": 41,
      "outputs": [
        {
          "output_type": "stream",
          "name": "stdout",
          "text": [
            "The total business cost using a logistic regression model using the ROC threshold is $340600\n"
          ]
        }
      ]
    },
    {
      "cell_type": "code",
      "source": [
        "# Bar plot of cost comparisons\n",
        "\n",
        "model_names = ['Log Reg', 'Log Reg w/ ROC']\n",
        "model_costs = [lr_total_cost, lrt_total_cost]\n",
        "\n",
        "model_comp = pd.DataFrame({'Model': model_names, 'Cost in $': model_costs})\n",
        "model_comp.plot.bar(x='Model', ylabel='Cost in $', title='Cost in Dollars per Model')\n",
        "plt.show()"
      ],
      "metadata": {
        "id": "VMXgRe2bym9H",
        "outputId": "639c1ff9-38a7-4877-b845-14530467ff41",
        "colab": {
          "base_uri": "https://localhost:8080/",
          "height": 364
        }
      },
      "execution_count": 47,
      "outputs": [
        {
          "output_type": "display_data",
          "data": {
            "text/plain": [
              "<Figure size 432x288 with 1 Axes>"
            ],
            "image/png": "[encoded data removed]"
          },
          "metadata": {
            "needs_background": "light"
          }
        }
      ]
    },
    {
      "cell_type": "markdown",
      "source": [
        "## Summary\n",
        "\n",
        "Given the high cost of the false negative case, using the threshold calculated from the ROC curve saved almost $200K. As we see in the confusion matrices, using the probability threshold to predict values from the test set greatly increases our recall but as a result decreases precision. In my opinion, when your false negative case is extremely costly, it is very beneficial to use the calculated probability threshold. An example of this would be predicting COVID test results. The false negative in this scenario would be predicting a result to be negative for COVID but the true result being positive for COVID. This would be extremely costly to public health outcomes. When the cost of the false negative and false positive cases are about the same, I would advise against using this method and maybe looking at resampling your dataset to make it more balanced. Again, this notebook was created to show the pros and cons of using an ROC curve to calculate a probability threshold with unbalanced datasets in binary classification. It is recommended that a combination of different methods are used to deal with unbalanced datasets!"
      ],
      "metadata": {
        "id": "B5gsNGBg2JBp"
      }
    }
  ]
}